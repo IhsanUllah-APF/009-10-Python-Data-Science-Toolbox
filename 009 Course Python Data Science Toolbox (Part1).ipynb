{
 "cells": [
  {
   "cell_type": "markdown",
   "id": "101edcea-d65a-4e3f-ba73-d9e2ad5d58ac",
   "metadata": {},
   "source": [
    "# Chapter 1"
   ]
  },
  {
   "cell_type": "markdown",
   "id": "c5ab9cc2-7993-420c-b25c-e624312af413",
   "metadata": {},
   "source": [
    "## User-defined functions"
   ]
  },
  {
   "cell_type": "code",
   "execution_count": 32,
   "id": "ef00f490-9114-4d79-a470-e0ed600d7e00",
   "metadata": {},
   "outputs": [],
   "source": [
    "import pandas as pd"
   ]
  },
  {
   "cell_type": "code",
   "execution_count": 1,
   "id": "b01bb943-cb70-4b4c-b30e-5e55be0f4e91",
   "metadata": {},
   "outputs": [
    {
     "data": {
      "text/plain": [
       "('dataanalysisvisualization', 3, '111')"
      ]
     },
     "execution_count": 1,
     "metadata": {},
     "output_type": "execute_result"
    }
   ],
   "source": [
    "# strings in Python\n",
    "object1 = 'data' + 'analysis' + 'visualization'\n",
    "object2 = 1 * 3\n",
    "object3 = '1' * 3\n",
    "object1, object2, object3"
   ]
  },
  {
   "cell_type": "code",
   "execution_count": 2,
   "id": "6445623c-0e54-4a8a-9a41-43c1d0f611f1",
   "metadata": {},
   "outputs": [
    {
     "name": "stdout",
     "output_type": "stream",
     "text": [
      "4.89\n"
     ]
    },
    {
     "data": {
      "text/plain": [
       "(4.89, '4.89', None)"
      ]
     },
     "execution_count": 2,
     "metadata": {},
     "output_type": "execute_result"
    }
   ],
   "source": [
    "# Recapping built-in functions\n",
    "x = 4.89\n",
    "y1 = str(x)\n",
    "y2 = print(x) # the function print does not return anything so that is why the result of y2 is None\n",
    "x, y1, y2 "
   ]
  },
  {
   "cell_type": "code",
   "execution_count": 4,
   "id": "c5adf794-6fca-4331-8e46-9ba63bb73a38",
   "metadata": {},
   "outputs": [
    {
     "data": {
      "text/plain": [
       "(float, str, NoneType)"
      ]
     },
     "execution_count": 4,
     "metadata": {},
     "output_type": "execute_result"
    }
   ],
   "source": [
    "# print the types\n",
    "# It is important to remember that assigning a variable y2 to a function that prints a value but does not return a value will result in that \n",
    "# variable y2 being of type NoneType.\n",
    "type(x), type(y1), type(y2)"
   ]
  },
  {
   "cell_type": "code",
   "execution_count": 6,
   "id": "fc3e7248-107f-4b63-af91-4458031cfa6f",
   "metadata": {},
   "outputs": [
    {
     "name": "stdout",
     "output_type": "stream",
     "text": [
      "congratulations!!!\n"
     ]
    }
   ],
   "source": [
    "# Write a simple function\n",
    "# Define a function, shout(), which simply prints out a string with three exclamation marks '!!!' at the end.\n",
    "\n",
    "# Complete the function header by adding the appropriate function name, shout.\n",
    "# In the function body, concatenate the string, 'congratulations' with another string, '!!!'. Assign the result to shout_word.\n",
    "# Print the value of shout_word.\n",
    "def shout():\n",
    "    \"\"\"Print a string with three exclamation marks\"\"\"\n",
    "    shout_word = 'congratulations' + '!!!'\n",
    "    print(shout_word)\n",
    "    \n",
    "# Call the shout function.\n",
    "shout()"
   ]
  },
  {
   "cell_type": "code",
   "execution_count": 8,
   "id": "bad41c1e-75e8-4a89-9ba8-16c17f97b908",
   "metadata": {},
   "outputs": [
    {
     "name": "stdout",
     "output_type": "stream",
     "text": [
      "warm congratulations!!!\n"
     ]
    }
   ],
   "source": [
    "# Single-parameter functions\n",
    "# You will now update shout() by adding a parameter so that it can accept and process any string argument passed to it. Also note that shout(word), \n",
    "# the part of the header that specifies the function name and parameter(s), is known as the signature of the function. You may encounter this term \n",
    "# in the wild!\n",
    "\n",
    "# Complete the function header by adding the parameter name, word.\n",
    "# Assign the result of concatenating word with '!!!' to shout_word.\n",
    "# Print the value of shout_word.\n",
    "def shout(word):\n",
    "    \"\"\"Print a string with three exclamation marks\"\"\"\n",
    "    shout_word = word + '!!!'\n",
    "    print(shout_word)\n",
    "\n",
    "# Call the shout() function, passing to it the string, 'warm congratulations'.    \n",
    "shout('warm congratulations')"
   ]
  },
  {
   "cell_type": "code",
   "execution_count": 10,
   "id": "0c1f330e-89dc-4ee8-a4a2-807a94484ee8",
   "metadata": {},
   "outputs": [
    {
     "name": "stdout",
     "output_type": "stream",
     "text": [
      "congratulations!!!\n"
     ]
    }
   ],
   "source": [
    "# Functions that return single values\n",
    "# You're getting very good at this! Try your hand at another modification to the shout() function so that it now returns a single value instead of \n",
    "# printing within the function. Recall that the return keyword lets you return values from functions. Returning values is generally more desirable \n",
    "# than printing them out because, as you saw earlier, a print() call assigned to a variable has type NoneType.\n",
    "\n",
    "# In the function body, concatenate the string in word with '!!!' and assign to shout_word.\n",
    "# Replace the print() statement with the appropriate return statement.\n",
    "def shout(word):\n",
    "    \"\"\"Print a string with three exclamation marks\"\"\"\n",
    "    shout_word = word + '!!!'\n",
    "    return shout_word\n",
    "\n",
    "#Call the shout() function, passing to it the string, 'congratulations', and assigning the call to the variable, yell.\n",
    "yell = shout('congratulations')\n",
    "\n",
    "# To check if yell contains the value returned by shout(), print the value of yell.\n",
    "print(yell)\n"
   ]
  },
  {
   "cell_type": "markdown",
   "id": "aac419c9-0001-4350-a0bb-bdfc545a22df",
   "metadata": {},
   "source": [
    "## Multiple parameters and multiple return values"
   ]
  },
  {
   "cell_type": "code",
   "execution_count": 11,
   "id": "e912fb4b-e772-4ccc-83a1-62ac288aff31",
   "metadata": {},
   "outputs": [
    {
     "name": "stdout",
     "output_type": "stream",
     "text": [
      "8\n"
     ]
    }
   ],
   "source": [
    "# Multiple function parameters\n",
    "def raise_to_power(value1, value2):\n",
    "    \"\"\"Raise value1 to the power of value2\"\"\"\n",
    "    new_value= value1 ** value2\n",
    "    return new_value\n",
    "\n",
    "result= raise_to_power(2, 3)\n",
    "print(result)"
   ]
  },
  {
   "cell_type": "code",
   "execution_count": 13,
   "id": "32133628-dcec-4548-beb6-2dfc389ce8d1",
   "metadata": {},
   "outputs": [
    {
     "data": {
      "text/plain": [
       "(2, 4, 6)"
      ]
     },
     "execution_count": 13,
     "metadata": {},
     "output_type": "execute_result"
    }
   ],
   "source": [
    "# unpacking tuples\n",
    "even_nums= (2, 4, 6)\n",
    "a, b, c= even_nums\n",
    "a, b, c"
   ]
  },
  {
   "cell_type": "code",
   "execution_count": 14,
   "id": "918c67b1-b313-4d36-a26c-ad913478b5c2",
   "metadata": {},
   "outputs": [
    {
     "data": {
      "text/plain": [
       "tuple"
      ]
     },
     "execution_count": 14,
     "metadata": {},
     "output_type": "execute_result"
    }
   ],
   "source": [
    "type(even_nums)"
   ]
  },
  {
   "cell_type": "code",
   "execution_count": 16,
   "id": "83a78df6-a418-4aff-bcfb-33b0330ec08f",
   "metadata": {},
   "outputs": [
    {
     "data": {
      "text/plain": [
       "4"
      ]
     },
     "execution_count": 16,
     "metadata": {},
     "output_type": "execute_result"
    }
   ],
   "source": [
    "# Accessing tuple elements like a list\n",
    "even_nums[1]"
   ]
  },
  {
   "cell_type": "code",
   "execution_count": 17,
   "id": "0e0adc49-af07-4747-8b6f-5acc125c0762",
   "metadata": {},
   "outputs": [
    {
     "data": {
      "text/plain": [
       "6"
      ]
     },
     "execution_count": 17,
     "metadata": {},
     "output_type": "execute_result"
    }
   ],
   "source": [
    "second_num= even_nums[2]\n",
    "second_num"
   ]
  },
  {
   "cell_type": "code",
   "execution_count": 20,
   "id": "da5ab456-8b6f-42ca-b134-2c5ac0e562a1",
   "metadata": {},
   "outputs": [
    {
     "data": {
      "text/plain": [
       "(8, 9)"
      ]
     },
     "execution_count": 20,
     "metadata": {},
     "output_type": "execute_result"
    }
   ],
   "source": [
    "# Returning multiple values through tuple\n",
    "def raise_both(value1, value2):\n",
    "    \"\"\"Raise value1 to the power of value2 and vice versa.\"\"\"\n",
    "    new_value1= value1 ** value2\n",
    "    new_value2= value2 ** value1\n",
    "    \n",
    "    new_tuple= (new_value1, new_value2)\n",
    "    return (new_tuple)\n",
    "\n",
    "result= raise_both(2, 3)\n",
    "result"
   ]
  },
  {
   "cell_type": "code",
   "execution_count": 25,
   "id": "a4ca05d3-dae9-4955-b858-fb804ef7d837",
   "metadata": {},
   "outputs": [
    {
     "name": "stdout",
     "output_type": "stream",
     "text": [
      "None\n"
     ]
    }
   ],
   "source": [
    "# Exercies\n",
    "# Functions with multiple parameters\n",
    "# Here, you will modify shout() to accept two arguments. Parts of the function shout()\n",
    "\n",
    "# Modify the function header such that it accepts two parameters, word1 and word2, in that order.\n",
    "# Concatenate each of word1 and word2 with '!!!' and assign to shout1 and shout2, respectively.\n",
    "# Concatenate shout1 and shout2 together, in that order, and assign to new_shout.\n",
    "def shout(word1, word2):\n",
    "    \"\"\"Concatenate strings with three exclamation marks\"\"\"\n",
    "    shout1= word1 + '!!!'\n",
    "    shout2= word2 + '!!!'\n",
    "    \n",
    "    new_shout= shout1 + shout2\n",
    "    \n",
    "# Pass the strings 'congratulations' and 'you', in that order, to a call to shout(). Assign the return value to yell.\n",
    "yell= shout('congratulations', 'you') \n",
    "print(yell)                          # printing, yell, prints None since nothing has returned from the function\n",
    "# print(new_shout)                   # throws name error since new_shout is not known outside the body of function\n"
   ]
  },
  {
   "cell_type": "code",
   "execution_count": 26,
   "id": "7d686cfd-7816-4e76-a079-f02a746aebc8",
   "metadata": {},
   "outputs": [
    {
     "name": "stdout",
     "output_type": "stream",
     "text": [
      "congratulations!!!you!!!\n"
     ]
    }
   ],
   "source": [
    "# same as above but with return value this time\n",
    "def shout(word1, word2):\n",
    "    \"\"\"Concatenate strings with three exclamation marks\"\"\"\n",
    "    shout1= word1 + '!!!'\n",
    "    shout2= word2 + '!!!'\n",
    "    \n",
    "    new_shout= shout1 + shout2\n",
    "    return new_shout\n",
    "    \n",
    "# Pass the strings 'congratulations' and 'you', in that order, to a call to shout(). Assign the return value to yell.\n",
    "yell= shout('congratulations', 'you')\n",
    "print(yell)"
   ]
  },
  {
   "cell_type": "code",
   "execution_count": 29,
   "id": "c147216a-5c41-4ece-9ffb-42516de444b5",
   "metadata": {},
   "outputs": [
    {
     "name": "stdout",
     "output_type": "stream",
     "text": [
      "congratulations!!!\n",
      "you!!!\n"
     ]
    }
   ],
   "source": [
    "# Functions that return multiple values\n",
    "# Here you will return multiple values from a function using tuples. Let's now update our shout() function to return multiple values. Instead of \n",
    "# returning just one string, we will return two strings with the string !!! concatenated to each.\n",
    "# Note that the return statement return x, y has the same result as return (x, y): the former actually packs x and y into a tuple under the hood!\n",
    "\n",
    "# Modify the function header such that the function name is now shout_all, and it accepts two parameters, word1 and word2, in that order.\n",
    "# Concatenate the string '!!!' to each of word1 and word2 and assign to shout1 and shout2, respectively.\n",
    "# Construct a tuple shout_words, composed of shout1 and shout2.\n",
    "def shout_all(word1, word2):\n",
    "    \"\"\"Enter the doc string here to explain what does this function do\"\"\"\n",
    "    shout1= word1 + '!!!'\n",
    "    shout2= word2 + '!!!'\n",
    "    shout_words= (shout1, shout2)\n",
    "    \n",
    "    return shout_words\n",
    "    \n",
    "#Call shout_all() with the strings 'congratulations' and 'you' and assign the result to yell1 and yell2 (remember, shout_all() returns 2 variables!).\n",
    "yell1, yell2= shout_all('congratulations', 'you')              # unpack the tuple returned from the function into yell1 and yell2\n",
    "print(yell1)\n",
    "print(yell2)"
   ]
  },
  {
   "cell_type": "markdown",
   "id": "6e1bbeff-1899-4888-ac25-b9ae872f5542",
   "metadata": {},
   "source": [
    "## Bring it all together"
   ]
  },
  {
   "cell_type": "code",
   "execution_count": 42,
   "id": "7bce5e44-68d6-4d76-bf2c-ef8e57dbc684",
   "metadata": {},
   "outputs": [
    {
     "data": {
      "text/plain": [
       "0    en\n",
       "1    en\n",
       "2    et\n",
       "3    en\n",
       "4    en\n",
       "Name: lang, dtype: object"
      ]
     },
     "execution_count": 42,
     "metadata": {},
     "output_type": "execute_result"
    }
   ],
   "source": [
    "# Bringing it all together (1)\n",
    "# For this exercise, your goal is to recall how to load a dataset into a DataFrame. The dataset contains Twitter data and you will iterate over \n",
    "# entries in a column to build a dictionary in which the keys are the names of languages and the values are the number of tweets in the given \n",
    "# language. The file tweets.csv is available in your current directory.\n",
    "\n",
    "# Import the file 'tweets.csv' using the pandas function read_csv(). Assign the resulting DataFrame to df.\n",
    "df= pd.read_csv('tweets.csv')\n",
    "df['lang'].head()"
   ]
  },
  {
   "cell_type": "code",
   "execution_count": 61,
   "id": "1142d2ce-64d7-4ef1-8afc-c38ea125bfaa",
   "metadata": {},
   "outputs": [
    {
     "name": "stdout",
     "output_type": "stream",
     "text": [
      "{'en': 97, 'et': 1, 'und': 2}\n"
     ]
    }
   ],
   "source": [
    "# # Initialize an empty dictionary: langs_count\n",
    "langs_count= {}\n",
    "\n",
    "# Extract column from DataFrame: col\n",
    "col= df['lang']\n",
    "\n",
    "# Complete the for loop by iterating over col, the 'lang' column in the DataFrame df.\n",
    "# Complete the bodies of the if-else statements in the for loop: if the key is in the dictionary langs_count, add 1 to the value corresponding to \n",
    "# this key in the dictionary, else add the key to langs_count and set the corresponding value to 1. Use the loop variable entry in your code.\n",
    "for entry in col:\n",
    "    if entry in langs_count.keys():                   # langs_count.keys() produces all the keys (columns) of the dictionary, langs_count\n",
    "        langs_count[entry] = langs_count[entry]+1     # langs_count[entry] produces value corresponding to the 'key' stored in 'entry'\n",
    "        \n",
    "    else:\n",
    "        langs_count[entry] = 1                        # set value equal to 1 corresponding to the 'key' stored in 'entry'\n",
    "        \n",
    "print(langs_count)    "
   ]
  },
  {
   "cell_type": "code",
   "execution_count": 62,
   "id": "770326fe-c9c1-467f-9ece-1fc66a64320a",
   "metadata": {},
   "outputs": [
    {
     "data": {
      "text/plain": [
       "dict_keys(['en', 'et', 'und'])"
      ]
     },
     "execution_count": 62,
     "metadata": {},
     "output_type": "execute_result"
    }
   ],
   "source": [
    "# this produces keys/columns in the dataframe.\n",
    "langs_count.keys()"
   ]
  },
  {
   "cell_type": "code",
   "execution_count": 57,
   "id": "8485c831-019d-4441-a91f-cf0f90e59421",
   "metadata": {},
   "outputs": [
    {
     "name": "stdout",
     "output_type": "stream",
     "text": [
      "{'a': 1, 'b': 2, 'c': 3}\n"
     ]
    }
   ],
   "source": [
    "# Extra stuff about dictionary: \n",
    "d= {'a': 1, 'b':2, 'c':3}\n",
    "print(d)"
   ]
  },
  {
   "cell_type": "code",
   "execution_count": 58,
   "id": "503fae4d-d0d1-4248-b6e1-dcfdef4b06e9",
   "metadata": {},
   "outputs": [
    {
     "data": {
      "text/plain": [
       "2"
      ]
     },
     "execution_count": 58,
     "metadata": {},
     "output_type": "execute_result"
    }
   ],
   "source": [
    "# value in a dictionary can be accessed through d['key'].\n",
    "d['b']"
   ]
  },
  {
   "cell_type": "code",
   "execution_count": 59,
   "id": "ab61e2a5-a338-4507-bfe6-72705923627c",
   "metadata": {},
   "outputs": [
    {
     "name": "stdout",
     "output_type": "stream",
     "text": [
      "{'a': 1, 'b': 2, 'c': 3, 'e': 4}\n"
     ]
    }
   ],
   "source": [
    "# similarly, a new key (column) and its value can be added to a dictionary through d['new key'] = value\n",
    "d['e']= 4\n",
    "print(d)"
   ]
  },
  {
   "cell_type": "code",
   "execution_count": 77,
   "id": "5d359957-3ac9-4abd-be8d-68a266443a8c",
   "metadata": {},
   "outputs": [
    {
     "name": "stdout",
     "output_type": "stream",
     "text": [
      "{'en': 97, 'et': 1, 'und': 2}\n"
     ]
    }
   ],
   "source": [
    "# Bringing it all together (2)\n",
    "\n",
    "tweets_df= pd.read_csv('tweets.csv')\n",
    "# In this exercise, you will define a function with the functionality you developed in the previous exercise, return the resulting dictionary from \n",
    "# within the function, and call the function with the appropriate arguments.\n",
    "\n",
    "# Define the function count_entries(), which has two parameters. The first parameter is df for the DataFrame and the second is col_name for the \n",
    "# column name.\n",
    "# Complete the bodies of the if-else statements in the for loop: if the key is in the dictionary langs_count, add 1 to its current value, else add \n",
    "# the key to langs_count and set its value to 1. Use the loop variable entry in your code.\n",
    "# Return the langs_count dictionary from inside the count_entries() function.\n",
    "def count_entries(df, col_name):\n",
    "    \"\"\"Return a dictionary with counts of occurrences as value for each key.\"\"\"\n",
    "    \n",
    "    langs_count= {}\n",
    "    \n",
    "    for entry in df[col_name]:\n",
    "        if entry in langs_count.keys():\n",
    "            langs_count[entry] = langs_count[entry] + 1\n",
    "            \n",
    "        else:\n",
    "            langs_count[entry] = 1\n",
    "            \n",
    "    return langs_count\n",
    "\n",
    "# Call the count_entries() function by passing to it tweets_df and the name of the column, 'lang'. Assign the result of the call to the variable \n",
    "# result.\n",
    "result = count_entries(tweets_df, 'lang')\n",
    "\n",
    "print(result)"
   ]
  },
  {
   "cell_type": "markdown",
   "id": "6303fed7-1ea1-4edf-8828-0ea4f7eaf483",
   "metadata": {},
   "source": [
    "# Chapter 2"
   ]
  },
  {
   "cell_type": "markdown",
   "id": "80d08c13-f7f0-4250-8c30-e437362dc0fd",
   "metadata": {},
   "source": [
    "## Scope and user-defined functions"
   ]
  },
  {
   "cell_type": "code",
   "execution_count": 79,
   "id": "f6d51f03-dcbd-4431-b7bb-1d1620813321",
   "metadata": {},
   "outputs": [
    {
     "name": "stdout",
     "output_type": "stream",
     "text": [
      "teen titans\n",
      "Justice league\n"
     ]
    }
   ],
   "source": [
    "# The keyword global\n",
    "# Let's work more on your mastery of scope. In this exercise, you will use the keyword global within a function to alter the value of a variable \n",
    "# defined in the global scope.\n",
    "\n",
    "# Use the keyword global to alter the object team in the global scope.\n",
    "\n",
    "# Create a string: team\n",
    "team = \"teen titans\"\n",
    "\n",
    "# Change the value of team in the global scope to the string \"justice league\". Assign the result to team.\n",
    "def change_team():\n",
    "    \"\"\"Change the value of the global variable team.\"\"\"\n",
    "    global team\n",
    "    team = 'Justice league'\n",
    "    \n",
    "print(team)       # before the function is called\n",
    "\n",
    "change_team()     \n",
    "\n",
    "print(team)       # after the function is called\n"
   ]
  },
  {
   "cell_type": "code",
   "execution_count": 83,
   "id": "b2a1e5e2-b0a7-4c7f-ae4b-11f56f9624b7",
   "metadata": {},
   "outputs": [],
   "source": [
    "# Python's built-in scope\n",
    "# Here you're going to check out Python's built-in scope, which is really just a built-in module called builtins. However, to query builtins, you'll\n",
    "# need to import builtins 'because the name builtins is not itself built in…No, I’m serious!' (Learning Python, 5th edition, Mark Lutz). After \n",
    "# executing import builtins in the IPython Shell, execute dir(builtins) to print a list of all the names in the module builtins. Have a look and \n",
    "# you'll see a bunch of names that you'll recognize! Which of the following names is NOT in the module builtins?\n",
    "\n",
    "import builtins\n",
    "# dir(builtins) # these are already built in python, so they can be accessed and used from any where in a program. Uncomment the command for info"
   ]
  },
  {
   "cell_type": "markdown",
   "id": "00a74053-e38d-4400-9931-02c4cb29eeb8",
   "metadata": {},
   "source": [
    "## Nested Functions"
   ]
  },
  {
   "cell_type": "code",
   "execution_count": 89,
   "id": "df9f63ce-d552-41e9-a27d-dfc7331a2d49",
   "metadata": {},
   "outputs": [
    {
     "name": "stdout",
     "output_type": "stream",
     "text": [
      "125\n"
     ]
    }
   ],
   "source": [
    "def raise_val(n):\n",
    "    \"\"\"Return the inner function\"\"\"\n",
    "    \n",
    "    def inner(x):\n",
    "        \"\"\"Raise x to the power of n\"\"\"\n",
    "        raised= x ** n\n",
    "        return raised\n",
    "    \n",
    "    return inner\n",
    "\n",
    "square= raise_val(3)\n",
    "print(square(5))"
   ]
  },
  {
   "cell_type": "code",
   "execution_count": 91,
   "id": "e02711ca-16b8-4eb4-8bb0-e8419bdcb803",
   "metadata": {},
   "outputs": [
    {
     "name": "stdout",
     "output_type": "stream",
     "text": [
      "('a!!!', 'b!!!', 'c!!!')\n"
     ]
    }
   ],
   "source": [
    "# Nested Functions I\n",
    "# You've learned in the last video about nesting functions within functions. One reason why you'd like to do this is to avoid writing out the same \n",
    "# computations within functions repeatedly. There's nothing new about defining nested functions: you simply define it as you would a regular \n",
    "# function with def and embed it inside another function!\n",
    "# In this exercise, inside a function three_shouts(), you will define a nested function inner() that concatenates a string object with !!!. \n",
    "# three_shouts() then returns a tuple of three elements, each a string concatenated with !!! using inner(). Go for it!\n",
    "\n",
    "# define three_shouts\n",
    "def three_shouts(word1, word2, word3):\n",
    "    \"\"\"Returns a tuple of strings concatenated with '!!!'.\"\"\"\n",
    "    \n",
    "    # define inner\n",
    "    def inner(word):\n",
    "        \"\"\"Returns a string concatenated with '!!!'.\"\"\"\n",
    "        \n",
    "        return word + '!!!'\n",
    "    \n",
    "    # Return a tuple of strings\n",
    "    return (inner(word1), inner(word2), inner(word3))\n",
    "\n",
    "# Call three_shouts() and print\n",
    "print(three_shouts('a', 'b', 'c'))"
   ]
  },
  {
   "cell_type": "code",
   "execution_count": 93,
   "id": "7a36561b-dce3-4e68-ad70-15cce460692a",
   "metadata": {},
   "outputs": [
    {
     "name": "stdout",
     "output_type": "stream",
     "text": [
      "hellohello hellohellohello\n"
     ]
    }
   ],
   "source": [
    "# Nested Functions II\n",
    "# Great job, you've just nested a function within another function. One other pretty cool reason for nesting functions is the idea of a closure. \n",
    "# This means that the nested or inner function remembers the state of its enclosing scope when called. Thus, anything defined locally in the \n",
    "# enclosing scope is available to the inner function even when the outer function has finished execution.\n",
    "\n",
    "# Let's move forward then! In this exercise, you will complete the definition of the inner function inner_echo() and then call echo() a couple of \n",
    "# times, each with a different argument. Complete the exercise and see what the output will be!\n",
    "\n",
    "# Define echo\n",
    "def echo(n):\n",
    "    \"\"\"Return the inner_echo function.\"\"\"\n",
    "    \n",
    "    # Define inner_echo\n",
    "    def inner_echo(word1):\n",
    "        \"\"\"Concatenate n copies of word1.\"\"\"\n",
    "        \n",
    "        return word1 * n          # remembers n without 'nonlocal n'. Takes n from the enclosing scope.\n",
    "    \n",
    "    # Return inner_echo\n",
    "    return inner_echo\n",
    "\n",
    "# call echo: twice\n",
    "twice = echo(2)\n",
    "\n",
    "# call echo: thrice\n",
    "thrice = echo(3)\n",
    "\n",
    "# call twice() and thrice() then print\n",
    "print(twice('hello'), thrice('hello'))"
   ]
  },
  {
   "cell_type": "code",
   "execution_count": 94,
   "id": "05f5b1cd-543e-474e-ad4d-6e8b6e69bb49",
   "metadata": {},
   "outputs": [
    {
     "name": "stdout",
     "output_type": "stream",
     "text": [
      "hellohello\n",
      "hellohello!!!\n"
     ]
    }
   ],
   "source": [
    "# The keyword nonlocal and nested functions\n",
    "# Let's once again work further on your mastery of scope! In this exercise, you will use the keyword nonlocal within a nested function to alter the \n",
    "# value of a variable defined in the enclosing scope.\n",
    "\n",
    "# define echo_shout()\n",
    "def echo_shout(word):\n",
    "    \"\"\"Change the value of a nonlocal variable\"\"\"\n",
    "    \n",
    "    # Concatenate word with itself: echo_word\n",
    "    echo_word = word + word\n",
    "    \n",
    "    # print echo_word\n",
    "    print(echo_word)\n",
    "    \n",
    "    # define inner function shout()\n",
    "    def shout():\n",
    "        \"\"\"Alter a variable in the enclosing scope\"\"\"\n",
    "        \n",
    "        # Use echo_word in nonlocal scope, that is, use it from enclosing scope\n",
    "        nonlocal echo_word\n",
    "        \n",
    "        # Change echo_word to echo_word concatenated with '!!!'\n",
    "        echo_word = echo_word + '!!!'\n",
    "        \n",
    "    # call function shout()\n",
    "    shout()\n",
    "    \n",
    "    # print echo_word\n",
    "    print(echo_word)\n",
    "    \n",
    "# Call function echo_shout() with argument 'hello'\n",
    "echo_shout('hello')"
   ]
  },
  {
   "cell_type": "markdown",
   "id": "b8fbf3d8-55bd-4670-9efa-a5491bca6253",
   "metadata": {},
   "source": [
    "## Default arguments and variable length arguments (*args and **kwargs)"
   ]
  },
  {
   "cell_type": "code",
   "execution_count": 98,
   "id": "ed5bc79e-8dcc-4214-8342-ef731852a0b9",
   "metadata": {},
   "outputs": [
    {
     "name": "stdout",
     "output_type": "stream",
     "text": [
      "Hey!!!\n",
      "HeyHeyHeyHeyHey!!!\n"
     ]
    }
   ],
   "source": [
    "# Functions with one default argument\n",
    "# In the previous chapter, you've learned to define functions with more than one parameter and then calling those functions by passing the required \n",
    "# number of arguments. In the last video, Hugo built on this idea by showing you how to define functions with default arguments. You will practice \n",
    "# that skill in this exercise by writing a function that uses a default argument and then calling the function a couple of times.\n",
    "\n",
    "# define shout_echo with default parameter/argument\n",
    "def shout_echo(word1, echo= 1):\n",
    "    \"\"\"Concatenate echo copies of word1 and three exclamation marks at the end of the string.\"\"\"\n",
    "    \n",
    "    # Concatenate echo copies of word1 using *: echo_word\n",
    "    echo_word= word1 * echo\n",
    "    \n",
    "    # Concatenate '!!!' to echo_word: shout_word\n",
    "    shout_word= echo_word + '!!!'\n",
    "    \n",
    "    # Return shout_word\n",
    "    return shout_word\n",
    "\n",
    "# Call shout_echo() with \"Hey\": no_echo\n",
    "no_echo= shout_echo('Hey')\n",
    "\n",
    "# Call shout_echo() with \"Hey\" and echo=5: with_echo\n",
    "with_echo= shout_echo('Hey', echo= 5)     \n",
    "\n",
    "# Print no_echo and with_echo\n",
    "print(no_echo)\n",
    "print(with_echo)"
   ]
  },
  {
   "cell_type": "code",
   "execution_count": 103,
   "id": "ae0335da-29d1-45bf-82fe-86b5af8ebab1",
   "metadata": {},
   "outputs": [
    {
     "name": "stdout",
     "output_type": "stream",
     "text": [
      "HEYHEYHEYHEYHEY!!!\n",
      "HEY!!!\n"
     ]
    }
   ],
   "source": [
    "# Functions with multiple default arguments\n",
    "# You've now defined a function that uses a default argument - don't stop there just yet! You will now try your hand at defining a function with \n",
    "# more than one default argument and then calling this function in various ways. \n",
    "# After defining the function, you will call it by supplying values to all the default arguments of the function. Additionally, you will call the \n",
    "# function by not passing a value to one of the default arguments - see how that changes the output of your function!\n",
    "\n",
    "# Define shout_echo\n",
    "def shout_echo(word1, echo= 1, intense= False):\n",
    "    \"\"\"Concatenate echo copies of word1 and three exclamation marks at the end of the string.\"\"\"\n",
    "    \n",
    "    # Concatenate echo copies of word1 using *: echo_word\n",
    "    echo_word= word1 * echo\n",
    "    \n",
    "    # Make echo_word uppercase if intense is True\n",
    "    if intense is True:\n",
    "        # Make uppercase and concatenate '!!!': echo_word_new\n",
    "        echo_word_new= echo_word.upper() + '!!!'\n",
    "        \n",
    "    else:\n",
    "        # Concatenate '!!!' to echo_word: echo_word_new\n",
    "        echo_word_new= echo_word + '!!!'\n",
    "        \n",
    "    # Return echo_word_new\n",
    "    return echo_word_new\n",
    "\n",
    "# Call shout_echo() with \"Hey\", echo=5 and intense=True: with_big_echo\n",
    "with_big_echo= shout_echo('Hey', echo= 5, intense= True)    # ('Hey', 5, True) works the same as ('Hey', echo= 5, intense= True)\n",
    "\n",
    "# Call shout_echo() with \"Hey\" and intense=True: big_no_echo\n",
    "big_no_echo= shout_echo('Hey', intense= True)     # ('Hey', True) assigns value 1 to echo, which has already 1 as default value. The order matters.\n",
    "        \n",
    "print(with_big_echo)\n",
    "print(big_no_echo)"
   ]
  },
  {
   "cell_type": "code",
   "execution_count": 122,
   "id": "e74c19c7-b0d0-47bf-be9c-2848ad4c774a",
   "metadata": {},
   "outputs": [
    {
     "name": "stdout",
     "output_type": "stream",
     "text": [
      "luke\n",
      "lukeleiahanobidarth\n"
     ]
    }
   ],
   "source": [
    "# Functions with variable-length arguments (*args)\n",
    "# Flexible arguments enable you to pass a variable number of arguments to a function. In this exercise, you will practice defining a function that \n",
    "# accepts a variable number of string arguments.\n",
    "# The function you will define is gibberish() which can accept a variable number of string values. Its return value is a single string composed of \n",
    "# all the string arguments concatenated together in the order they were passed to the function call. You will call the function with a single string \n",
    "# argument and see how the output changes with another call using more than one string argument. Recall from the previous video that, within the \n",
    "# function definition, args is a tuple.\n",
    "\n",
    "# Complete the function header with the function name gibberish. It accepts a single flexible argument *args.\n",
    "def gibberish(*args):         # args, followed by one *, stores given arguments (passed in a variable number/length as desired) as a tuple.\n",
    "                                \n",
    "    # Initialize a variable hodgepodge to an empty string.\n",
    "    hodgepodge= ''\n",
    "    \n",
    "    # Concatenate the strings in args\n",
    "    for word in args:\n",
    "        hodgepodge= hodgepodge + word              # this is same as: hodgepodge += word         \n",
    "    \n",
    "    # Return hodgepodge\n",
    "    return hodgepodge\n",
    "\n",
    "# Call gibberish() with one string: one_word\n",
    "one_word= gibberish('luke')\n",
    "\n",
    "# Call gibberish() with five strings: many_words\n",
    "many_words = gibberish(\"luke\", \"leia\", \"han\", \"obi\", \"darth\")\n",
    "\n",
    "# Print one_word and many_words\n",
    "print(one_word)\n",
    "print(many_words)"
   ]
  },
  {
   "cell_type": "code",
   "execution_count": 134,
   "id": "b4a238a2-8958-4a9e-9924-4e16fa104ffb",
   "metadata": {},
   "outputs": [
    {
     "name": "stdout",
     "output_type": "stream",
     "text": [
      "\n",
      " Begin: Report \n",
      "\n",
      "name : luke\n",
      "affiliation : jedi\n",
      "status : missing\n",
      "\n",
      " End: Report\n",
      "\n",
      " Begin: Report \n",
      "\n",
      "name : anakin\n",
      "affiliation : sith\n",
      "status : deceased\n",
      "\n",
      " End: Report\n"
     ]
    }
   ],
   "source": [
    "# Functions with variable-length keyword arguments (**kwargs)\n",
    "# Let's push further on what you've learned about flexible arguments - you've used *args, you're now going to use **kwargs! What makes **kwargs \n",
    "# different is that it allows you to pass a variable number of keyword arguments to functions. Recall from the previous video that, within the \n",
    "# function definition, kwargs is a dictionary.\n",
    "# To understand this idea better, you're going to use **kwargs in this exercise to define a function that accepts a variable number of keyword \n",
    "# arguments. The function simulates a simple status report system that prints out the status of a character in a movie.\n",
    "\n",
    "# Complete the function header with the function name report_status. It accepts a single flexible argument **kwargs.\n",
    "def report_status(**kwargs):    # kwargs, followed by **, stores arguments as a key-value pair in form of dictionary.\n",
    "    \"\"\"Print out the status of a movie character.\"\"\"\n",
    "    \n",
    "    print('\\n Begin: Report \\n')   # \\n is escape character, meaning a new line rather than alphabit n.\n",
    "    \n",
    "    # Iterate over the key-value pairs of kwargs\n",
    "    for key, value in kwargs.items():\n",
    "        # Print out the keys and values, separated by a colon ':'\n",
    "        print(key, ':', value)\n",
    "        \n",
    "    print('\\n End: Report')\n",
    "    \n",
    "# First call to report_status()\n",
    "report_status(name= 'luke', affiliation= 'jedi', status= 'missing')\n",
    "\n",
    "# Second call to report_status()\n",
    "report_status(name= 'anakin', affiliation= 'sith', status= 'deceased')\n",
    "\n"
   ]
  },
  {
   "cell_type": "markdown",
   "id": "fbbba321-7de8-4f41-a14b-427d8fd4154f",
   "metadata": {},
   "source": [
    "## Bring it all together"
   ]
  },
  {
   "cell_type": "code",
   "execution_count": null,
   "id": "d6fd8588-9aaf-4191-8e8b-0bddd00a903b",
   "metadata": {},
   "outputs": [],
   "source": [
    "# Bringing it all together (1)\n",
    "# Recall the Bringing it all together exercise in the previous chapter where you did a simple Twitter analysis by developing a function that counts \n",
    "# how many tweets are in certain languages. The output of your function was a dictionary that had the language as the keys and the counts of tweets \n",
    "# in that language as the value.\n",
    "# In this exercise, we will generalize the Twitter language analysis that you did in the previous chapter. You will do that by including a default \n",
    "# argument that takes a column name. "
   ]
  },
  {
   "cell_type": "code",
   "execution_count": 137,
   "id": "8ead2688-8804-4b31-8cd7-5a2e52b1138b",
   "metadata": {},
   "outputs": [
    {
     "data": {
      "text/html": [
       "<div>\n",
       "<style scoped>\n",
       "    .dataframe tbody tr th:only-of-type {\n",
       "        vertical-align: middle;\n",
       "    }\n",
       "\n",
       "    .dataframe tbody tr th {\n",
       "        vertical-align: top;\n",
       "    }\n",
       "\n",
       "    .dataframe thead th {\n",
       "        text-align: right;\n",
       "    }\n",
       "</style>\n",
       "<table border=\"1\" class=\"dataframe\">\n",
       "  <thead>\n",
       "    <tr style=\"text-align: right;\">\n",
       "      <th></th>\n",
       "      <th>contributors</th>\n",
       "      <th>coordinates</th>\n",
       "      <th>created_at</th>\n",
       "      <th>entities</th>\n",
       "      <th>extended_entities</th>\n",
       "      <th>favorite_count</th>\n",
       "      <th>favorited</th>\n",
       "      <th>filter_level</th>\n",
       "      <th>geo</th>\n",
       "      <th>id</th>\n",
       "      <th>...</th>\n",
       "      <th>quoted_status_id</th>\n",
       "      <th>quoted_status_id_str</th>\n",
       "      <th>retweet_count</th>\n",
       "      <th>retweeted</th>\n",
       "      <th>retweeted_status</th>\n",
       "      <th>source</th>\n",
       "      <th>text</th>\n",
       "      <th>timestamp_ms</th>\n",
       "      <th>truncated</th>\n",
       "      <th>user</th>\n",
       "    </tr>\n",
       "  </thead>\n",
       "  <tbody>\n",
       "    <tr>\n",
       "      <th>0</th>\n",
       "      <td>NaN</td>\n",
       "      <td>NaN</td>\n",
       "      <td>Tue Mar 29 23:40:17 +0000 2016</td>\n",
       "      <td>{'hashtags': [], 'user_mentions': [{'screen_na...</td>\n",
       "      <td>{'media': [{'sizes': {'large': {'w': 1024, 'h'...</td>\n",
       "      <td>0</td>\n",
       "      <td>False</td>\n",
       "      <td>low</td>\n",
       "      <td>NaN</td>\n",
       "      <td>714960401759387648</td>\n",
       "      <td>...</td>\n",
       "      <td>NaN</td>\n",
       "      <td>NaN</td>\n",
       "      <td>0</td>\n",
       "      <td>False</td>\n",
       "      <td>{'retweeted': False, 'text': \".@krollbondratin...</td>\n",
       "      <td>&lt;a href=\"http://twitter.com\" rel=\"nofollow\"&gt;Tw...</td>\n",
       "      <td>RT @bpolitics: .@krollbondrating's Christopher...</td>\n",
       "      <td>1459294817758</td>\n",
       "      <td>False</td>\n",
       "      <td>{'utc_offset': 3600, 'profile_image_url_https'...</td>\n",
       "    </tr>\n",
       "    <tr>\n",
       "      <th>1</th>\n",
       "      <td>NaN</td>\n",
       "      <td>NaN</td>\n",
       "      <td>Tue Mar 29 23:40:17 +0000 2016</td>\n",
       "      <td>{'hashtags': [{'text': 'cruzsexscandal', 'indi...</td>\n",
       "      <td>{'media': [{'sizes': {'large': {'w': 500, 'h':...</td>\n",
       "      <td>0</td>\n",
       "      <td>False</td>\n",
       "      <td>low</td>\n",
       "      <td>NaN</td>\n",
       "      <td>714960401977319424</td>\n",
       "      <td>...</td>\n",
       "      <td>NaN</td>\n",
       "      <td>NaN</td>\n",
       "      <td>0</td>\n",
       "      <td>False</td>\n",
       "      <td>{'retweeted': False, 'text': '@dmartosko Cruz ...</td>\n",
       "      <td>&lt;a href=\"http://twitter.com\" rel=\"nofollow\"&gt;Tw...</td>\n",
       "      <td>RT @HeidiAlpine: @dmartosko Cruz video found.....</td>\n",
       "      <td>1459294817810</td>\n",
       "      <td>False</td>\n",
       "      <td>{'utc_offset': None, 'profile_image_url_https'...</td>\n",
       "    </tr>\n",
       "    <tr>\n",
       "      <th>2</th>\n",
       "      <td>NaN</td>\n",
       "      <td>NaN</td>\n",
       "      <td>Tue Mar 29 23:40:17 +0000 2016</td>\n",
       "      <td>{'hashtags': [], 'user_mentions': [], 'symbols...</td>\n",
       "      <td>NaN</td>\n",
       "      <td>0</td>\n",
       "      <td>False</td>\n",
       "      <td>low</td>\n",
       "      <td>NaN</td>\n",
       "      <td>714960402426236928</td>\n",
       "      <td>...</td>\n",
       "      <td>NaN</td>\n",
       "      <td>NaN</td>\n",
       "      <td>0</td>\n",
       "      <td>False</td>\n",
       "      <td>NaN</td>\n",
       "      <td>&lt;a href=\"http://www.facebook.com/twitter\" rel=...</td>\n",
       "      <td>Njihuni me Zonjën Trump !!! | Ekskluzive https...</td>\n",
       "      <td>1459294817917</td>\n",
       "      <td>False</td>\n",
       "      <td>{'utc_offset': 7200, 'profile_image_url_https'...</td>\n",
       "    </tr>\n",
       "    <tr>\n",
       "      <th>3</th>\n",
       "      <td>NaN</td>\n",
       "      <td>NaN</td>\n",
       "      <td>Tue Mar 29 23:40:17 +0000 2016</td>\n",
       "      <td>{'hashtags': [], 'user_mentions': [], 'symbols...</td>\n",
       "      <td>NaN</td>\n",
       "      <td>0</td>\n",
       "      <td>False</td>\n",
       "      <td>low</td>\n",
       "      <td>NaN</td>\n",
       "      <td>714960402367561730</td>\n",
       "      <td>...</td>\n",
       "      <td>7.149239e+17</td>\n",
       "      <td>7.149239e+17</td>\n",
       "      <td>0</td>\n",
       "      <td>False</td>\n",
       "      <td>NaN</td>\n",
       "      <td>&lt;a href=\"http://twitter.com/download/android\" ...</td>\n",
       "      <td>Your an idiot she shouldn't have tried to grab...</td>\n",
       "      <td>1459294817903</td>\n",
       "      <td>False</td>\n",
       "      <td>{'utc_offset': None, 'profile_image_url_https'...</td>\n",
       "    </tr>\n",
       "    <tr>\n",
       "      <th>4</th>\n",
       "      <td>NaN</td>\n",
       "      <td>NaN</td>\n",
       "      <td>Tue Mar 29 23:40:17 +0000 2016</td>\n",
       "      <td>{'hashtags': [], 'user_mentions': [{'screen_na...</td>\n",
       "      <td>NaN</td>\n",
       "      <td>0</td>\n",
       "      <td>False</td>\n",
       "      <td>low</td>\n",
       "      <td>NaN</td>\n",
       "      <td>714960402149416960</td>\n",
       "      <td>...</td>\n",
       "      <td>NaN</td>\n",
       "      <td>NaN</td>\n",
       "      <td>0</td>\n",
       "      <td>False</td>\n",
       "      <td>{'retweeted': False, 'text': 'The anti-America...</td>\n",
       "      <td>&lt;a href=\"http://twitter.com/download/iphone\" r...</td>\n",
       "      <td>RT @AlanLohner: The anti-American D.C. elites ...</td>\n",
       "      <td>1459294817851</td>\n",
       "      <td>False</td>\n",
       "      <td>{'utc_offset': -18000, 'profile_image_url_http...</td>\n",
       "    </tr>\n",
       "  </tbody>\n",
       "</table>\n",
       "<p>5 rows × 31 columns</p>\n",
       "</div>"
      ],
      "text/plain": [
       "   contributors  coordinates                      created_at  \\\n",
       "0           NaN          NaN  Tue Mar 29 23:40:17 +0000 2016   \n",
       "1           NaN          NaN  Tue Mar 29 23:40:17 +0000 2016   \n",
       "2           NaN          NaN  Tue Mar 29 23:40:17 +0000 2016   \n",
       "3           NaN          NaN  Tue Mar 29 23:40:17 +0000 2016   \n",
       "4           NaN          NaN  Tue Mar 29 23:40:17 +0000 2016   \n",
       "\n",
       "                                            entities  \\\n",
       "0  {'hashtags': [], 'user_mentions': [{'screen_na...   \n",
       "1  {'hashtags': [{'text': 'cruzsexscandal', 'indi...   \n",
       "2  {'hashtags': [], 'user_mentions': [], 'symbols...   \n",
       "3  {'hashtags': [], 'user_mentions': [], 'symbols...   \n",
       "4  {'hashtags': [], 'user_mentions': [{'screen_na...   \n",
       "\n",
       "                                   extended_entities  favorite_count  \\\n",
       "0  {'media': [{'sizes': {'large': {'w': 1024, 'h'...               0   \n",
       "1  {'media': [{'sizes': {'large': {'w': 500, 'h':...               0   \n",
       "2                                                NaN               0   \n",
       "3                                                NaN               0   \n",
       "4                                                NaN               0   \n",
       "\n",
       "   favorited filter_level  geo                  id  ...  quoted_status_id  \\\n",
       "0      False          low  NaN  714960401759387648  ...               NaN   \n",
       "1      False          low  NaN  714960401977319424  ...               NaN   \n",
       "2      False          low  NaN  714960402426236928  ...               NaN   \n",
       "3      False          low  NaN  714960402367561730  ...      7.149239e+17   \n",
       "4      False          low  NaN  714960402149416960  ...               NaN   \n",
       "\n",
       "  quoted_status_id_str  retweet_count  retweeted  \\\n",
       "0                  NaN              0      False   \n",
       "1                  NaN              0      False   \n",
       "2                  NaN              0      False   \n",
       "3         7.149239e+17              0      False   \n",
       "4                  NaN              0      False   \n",
       "\n",
       "                                    retweeted_status  \\\n",
       "0  {'retweeted': False, 'text': \".@krollbondratin...   \n",
       "1  {'retweeted': False, 'text': '@dmartosko Cruz ...   \n",
       "2                                                NaN   \n",
       "3                                                NaN   \n",
       "4  {'retweeted': False, 'text': 'The anti-America...   \n",
       "\n",
       "                                              source  \\\n",
       "0  <a href=\"http://twitter.com\" rel=\"nofollow\">Tw...   \n",
       "1  <a href=\"http://twitter.com\" rel=\"nofollow\">Tw...   \n",
       "2  <a href=\"http://www.facebook.com/twitter\" rel=...   \n",
       "3  <a href=\"http://twitter.com/download/android\" ...   \n",
       "4  <a href=\"http://twitter.com/download/iphone\" r...   \n",
       "\n",
       "                                                text   timestamp_ms truncated  \\\n",
       "0  RT @bpolitics: .@krollbondrating's Christopher...  1459294817758     False   \n",
       "1  RT @HeidiAlpine: @dmartosko Cruz video found.....  1459294817810     False   \n",
       "2  Njihuni me Zonjën Trump !!! | Ekskluzive https...  1459294817917     False   \n",
       "3  Your an idiot she shouldn't have tried to grab...  1459294817903     False   \n",
       "4  RT @AlanLohner: The anti-American D.C. elites ...  1459294817851     False   \n",
       "\n",
       "                                                user  \n",
       "0  {'utc_offset': 3600, 'profile_image_url_https'...  \n",
       "1  {'utc_offset': None, 'profile_image_url_https'...  \n",
       "2  {'utc_offset': 7200, 'profile_image_url_https'...  \n",
       "3  {'utc_offset': None, 'profile_image_url_https'...  \n",
       "4  {'utc_offset': -18000, 'profile_image_url_http...  \n",
       "\n",
       "[5 rows x 31 columns]"
      ]
     },
     "execution_count": 137,
     "metadata": {},
     "output_type": "execute_result"
    }
   ],
   "source": [
    "tweets_df= pd.read_csv('tweets.csv')\n",
    "tweets_df.head()"
   ]
  },
  {
   "cell_type": "code",
   "execution_count": 138,
   "id": "33696c06-2cc4-44fc-aa8e-54fa0ab3fde7",
   "metadata": {},
   "outputs": [
    {
     "data": {
      "text/plain": [
       "Index(['contributors', 'coordinates', 'created_at', 'entities',\n",
       "       'extended_entities', 'favorite_count', 'favorited', 'filter_level',\n",
       "       'geo', 'id', 'id_str', 'in_reply_to_screen_name',\n",
       "       'in_reply_to_status_id', 'in_reply_to_status_id_str',\n",
       "       'in_reply_to_user_id', 'in_reply_to_user_id_str', 'is_quote_status',\n",
       "       'lang', 'place', 'possibly_sensitive', 'quoted_status',\n",
       "       'quoted_status_id', 'quoted_status_id_str', 'retweet_count',\n",
       "       'retweeted', 'retweeted_status', 'source', 'text', 'timestamp_ms',\n",
       "       'truncated', 'user'],\n",
       "      dtype='object')"
      ]
     },
     "execution_count": 138,
     "metadata": {},
     "output_type": "execute_result"
    }
   ],
   "source": [
    "tweets_df.columns"
   ]
  },
  {
   "cell_type": "code",
   "execution_count": 144,
   "id": "543b2a4f-38ac-4221-94ae-d4bed9d02d2f",
   "metadata": {},
   "outputs": [
    {
     "name": "stdout",
     "output_type": "stream",
     "text": [
      "{'en': 97, 'et': 1, 'und': 2}\n",
      "{'<a href=\"http://twitter.com\" rel=\"nofollow\">Twitter Web Client</a>': 24, '<a href=\"http://www.facebook.com/twitter\" rel=\"nofollow\">Facebook</a>': 1, '<a href=\"http://twitter.com/download/android\" rel=\"nofollow\">Twitter for Android</a>': 26, '<a href=\"http://twitter.com/download/iphone\" rel=\"nofollow\">Twitter for iPhone</a>': 33, '<a href=\"http://www.twitter.com\" rel=\"nofollow\">Twitter for BlackBerry</a>': 2, '<a href=\"http://www.google.com/\" rel=\"nofollow\">Google</a>': 2, '<a href=\"http://twitter.com/#!/download/ipad\" rel=\"nofollow\">Twitter for iPad</a>': 6, '<a href=\"http://linkis.com\" rel=\"nofollow\">Linkis.com</a>': 2, '<a href=\"http://rutracker.org/forum/viewforum.php?f=93\" rel=\"nofollow\">newzlasz</a>': 2, '<a href=\"http://ifttt.com\" rel=\"nofollow\">IFTTT</a>': 1, '<a href=\"http://www.myplume.com/\" rel=\"nofollow\">Plume\\xa0for\\xa0Android</a>': 1}\n"
     ]
    }
   ],
   "source": [
    "# Complete the function header by supplying the parameter for a DataFrame df and the parameter col_name with a default value of 'lang' for the \n",
    "# DataFrame column name.\n",
    "def count_entries(df, col_name= 'lang'):\n",
    "    \"\"\"Return a dictionary with counts of occurrences as value for each key.\"\"\"\n",
    "    \n",
    "    # Initialize an empty dictionary: cols_count\n",
    "    cols_count= {}\n",
    "    \n",
    "    # Extract column from DataFrame: col\n",
    "    col= df[col_name]\n",
    "    \n",
    "    # Iterate over the column in DataFrame\n",
    "    for entry in col:\n",
    "        # If entry is in cols_count, add 1\n",
    "        if entry in cols_count.keys():\n",
    "            cols_count[entry]= cols_count[entry] + 1    # this is same as: cols_count[entry] += 1\n",
    "        \n",
    "        # Else add the entry to cols_count, set the value to 1\n",
    "        else:\n",
    "            cols_count[entry] = 1     # set the new key and its value equal to 1 in the dictionary\n",
    "            \n",
    "    return cols_count\n",
    "\n",
    "# Call count_entries() by passing the tweets_df DataFrame and the column name 'lang'. Assign the result to result1. Note that since 'lang' is the \n",
    "# default value of the col_name parameter, you don't have to specify it here.\n",
    "result1= count_entries(tweets_df)     # this is same as: count_entries(tweets_df, col_name= 'lang') since col_name= 'lang' is the default argument.\n",
    "\n",
    "# Call count_entries() by passing the tweets_df DataFrame and the column name 'source'. Assign the result to result2.\n",
    "result2= count_entries(tweets_df, col_name= 'source')\n",
    "\n",
    "print(result1)\n",
    "print(result2)"
   ]
  },
  {
   "cell_type": "code",
   "execution_count": 146,
   "id": "dda5f4ca-c1ac-48a3-8383-e6f19ee5e62f",
   "metadata": {},
   "outputs": [
    {
     "data": {
      "text/plain": [
       "0                      <a href=\"http://twitter.com\" rel=\"nofollow\">Twitter Web Client</a>\n",
       "1                      <a href=\"http://twitter.com\" rel=\"nofollow\">Twitter Web Client</a>\n",
       "2                   <a href=\"http://www.facebook.com/twitter\" rel=\"nofollow\">Facebook</a>\n",
       "3    <a href=\"http://twitter.com/download/android\" rel=\"nofollow\">Twitter for Android</a>\n",
       "4      <a href=\"http://twitter.com/download/iphone\" rel=\"nofollow\">Twitter for iPhone</a>\n",
       "Name: source, dtype: object"
      ]
     },
     "execution_count": 146,
     "metadata": {},
     "output_type": "execute_result"
    }
   ],
   "source": [
    "pd.set_option('display.max_colwidth', None)   # display the max width of the column\n",
    "tweets_df['source'].head()"
   ]
  },
  {
   "cell_type": "code",
   "execution_count": 170,
   "id": "1f5d393a-4b5c-432a-b914-48e0fa2e17a3",
   "metadata": {},
   "outputs": [
    {
     "name": "stdout",
     "output_type": "stream",
     "text": [
      "{'en': 97, 'et': 1, 'und': 2}\n",
      "{'en': 97, 'et': 1, 'und': 2, '<a href=\"http://twitter.com\" rel=\"nofollow\">Twitter Web Client</a>': 24, '<a href=\"http://www.facebook.com/twitter\" rel=\"nofollow\">Facebook</a>': 1, '<a href=\"http://twitter.com/download/android\" rel=\"nofollow\">Twitter for Android</a>': 26, '<a href=\"http://twitter.com/download/iphone\" rel=\"nofollow\">Twitter for iPhone</a>': 33, '<a href=\"http://www.twitter.com\" rel=\"nofollow\">Twitter for BlackBerry</a>': 2, '<a href=\"http://www.google.com/\" rel=\"nofollow\">Google</a>': 2, '<a href=\"http://twitter.com/#!/download/ipad\" rel=\"nofollow\">Twitter for iPad</a>': 6, '<a href=\"http://linkis.com\" rel=\"nofollow\">Linkis.com</a>': 2, '<a href=\"http://rutracker.org/forum/viewforum.php?f=93\" rel=\"nofollow\">newzlasz</a>': 2, '<a href=\"http://ifttt.com\" rel=\"nofollow\">IFTTT</a>': 1, '<a href=\"http://www.myplume.com/\" rel=\"nofollow\">Plume\\xa0for\\xa0Android</a>': 1}\n"
     ]
    }
   ],
   "source": [
    "# Bringing it all together (2)\n",
    "# Wow, you've just generalized your Twitter language analysis that you did in the previous chapter to include a default argument for the column \n",
    "# name. You're now going to generalize this function one step further by allowing the user to pass it a flexible argument, that is, in this case, as\n",
    "# many column names as the user would like!\n",
    "\n",
    "# Complete the function header by supplying the parameter for the DataFrame df and the flexible argument *args.\n",
    "def count_entries(df, *args):\n",
    "    \"\"\"Return a dictionary with counts of occurrences as value for each key.\"\"\"\n",
    "    \n",
    "    # Initialize an empty dictionary: cols_count\n",
    "    cols_count= {}\n",
    "    \n",
    "    # Iterate over column names in args\n",
    "    for col_name in args:\n",
    "        \n",
    "        # Extract column from DataFrame: col\n",
    "        col= df[col_name]\n",
    "        \n",
    "        # Iterate over the column in DataFrame\n",
    "        for entry in col:\n",
    "            \n",
    "            # If entry is in cols_count, add 1\n",
    "            if entry in cols_count.keys():\n",
    "                \n",
    "                cols_count[entry] = cols_count[entry] + 1\n",
    "            \n",
    "            # Else add the entry to cols_count, set the value to 1\n",
    "            else:\n",
    "                cols_count[entry] = 1\n",
    "                \n",
    "                \n",
    "    # Return the cols_count dictionary            \n",
    "    return cols_count\n",
    "\n",
    "# Call count_entries(): result1\n",
    "result1 = count_entries(tweets_df, 'lang')\n",
    "\n",
    "# Call count_entries(): result2\n",
    "result2 = count_entries(tweets_df, 'lang', 'source')\n",
    "print(result1)\n",
    "print(result2)"
   ]
  },
  {
   "cell_type": "markdown",
   "id": "3d18649b-48b1-433b-84ab-f437c1a314f1",
   "metadata": {},
   "source": [
    "# Chapter 3"
   ]
  },
  {
   "cell_type": "markdown",
   "id": "345c1479-fb0f-49d8-9fbf-757e4f7ea9c5",
   "metadata": {},
   "source": [
    "## Lambda functions"
   ]
  },
  {
   "cell_type": "code",
   "execution_count": 175,
   "id": "98e1eeb2-c451-4c7d-9974-1aac53ef097f",
   "metadata": {},
   "outputs": [
    {
     "name": "stdout",
     "output_type": "stream",
     "text": [
      "<function <lambda> at 0x0000024A009A3E20>\n"
     ]
    }
   ],
   "source": [
    "# Writing and calling a lambda function\n",
    "# How would you write a lambda function add_bangs that adds three exclamation points '!!!' to the end of a string a? \n",
    "add_bangs= lambda a: a + '!!!' \n",
    "\n",
    "print(add_bangs)"
   ]
  },
  {
   "cell_type": "code",
   "execution_count": 176,
   "id": "7f5a4dd2-9d90-4d2b-8f82-311978301751",
   "metadata": {},
   "outputs": [
    {
     "data": {
      "text/plain": [
       "'hello!!!'"
      ]
     },
     "execution_count": 176,
     "metadata": {},
     "output_type": "execute_result"
    }
   ],
   "source": [
    "# How would you call add_bangs with the argument 'hello'?\n",
    "add_bangs('hello')"
   ]
  },
  {
   "cell_type": "code",
   "execution_count": null,
   "id": "74783b19-3b02-49a8-8c5d-c597b267491c",
   "metadata": {},
   "outputs": [],
   "source": [
    "# Writing a lambda function you already know\n",
    "# Some function definitions are simple enough that they can be converted to a lambda function. By doing this, you write less lines of code, which is\n",
    "# pretty awesome and will come in handy, especially when you're writing and maintaining big programs. In this exercise, you will use what you know \n",
    "#about lambda functions to convert a function that does a simple task into a lambda function. Take a look at this function definition:\n",
    "# def echo_word(word1, echo):\n",
    "#     \"\"\"Concatenate echo copies of word1.\"\"\"\n",
    "#     words = word1 * echo\n",
    "#     return words\n",
    "\n",
    "# The function echo_word takes 2 parameters: a string value, word1 and an integer value, echo. It returns a string that is a concatenation of echo \n",
    "# copies of word1. Your task is to convert this simple function into a lambda function."
   ]
  },
  {
   "cell_type": "code",
   "execution_count": 181,
   "id": "32af299a-c8f1-49ae-9651-490a984fd10a",
   "metadata": {},
   "outputs": [
    {
     "name": "stdout",
     "output_type": "stream",
     "text": [
      "heyheyheyheyhey\n"
     ]
    }
   ],
   "source": [
    "# Define the lambda function echo_word using the variables word1 and echo. Replicate what the original function definition for echo_word() does \n",
    "# above.\n",
    "echo_word= (lambda word1, echo: word1 * echo)   # parenthesis is optional here\n",
    "\n",
    "# Call echo_word() with the string argument 'hey' and the value 5, in that order. Assign the call to result.\n",
    "result= echo_word('hey', 5)\n",
    "print(result)"
   ]
  },
  {
   "cell_type": "code",
   "execution_count": 185,
   "id": "e7d0b245-9c14-455c-a072-7d280af44996",
   "metadata": {},
   "outputs": [
    {
     "name": "stdout",
     "output_type": "stream",
     "text": [
      "<map object at 0x0000024A0012CFD0>\n"
     ]
    }
   ],
   "source": [
    "# Map() and lambda functions\n",
    "# So far, you've used lambda functions to write short, simple functions as well as to redefine functions with simple functionality. The best use \n",
    "# case for lambda functions, however, are for when you want these simple functionalities to be anonymously embedded within larger expressions. What\n",
    "# that means is that the functionality is not stored in the environment, unlike a function defined with def. To understand this idea better, you \n",
    "# will use a lambda function in the context of the map() function.\n",
    "# Recall from the video that map() applies a function over an object, such as a list. Here, you can use lambda functions to define the function that\n",
    "# map() will use to process the object. For example:\n",
    "\n",
    "# In the map() call, pass a lambda function that concatenates the string '!!!' to a string item; also pass the list of strings, spells. Assign the \n",
    "# resulting map object to shout_spells.\n",
    "\n",
    "spells= [\"protego\", \"accio\", \"expecto patronum\", \"legilimens\"]\n",
    "shout_spells= map(lambda item: item + '!!!', spells)\n",
    "\n",
    "print(shout_spells)"
   ]
  },
  {
   "cell_type": "code",
   "execution_count": 187,
   "id": "751575a3-fbcc-45c4-9de9-3465fe8252cf",
   "metadata": {},
   "outputs": [
    {
     "name": "stdout",
     "output_type": "stream",
     "text": [
      "['protego!!!', 'accio!!!', 'expecto patronum!!!', 'legilimens!!!']\n"
     ]
    }
   ],
   "source": [
    "shout_spells_list= list(shout_spells)\n",
    "print(shout_spells_list)"
   ]
  },
  {
   "cell_type": "code",
   "execution_count": 190,
   "id": "77d86718-f856-4ebe-bd08-cc540d4f3faa",
   "metadata": {},
   "outputs": [
    {
     "name": "stdout",
     "output_type": "stream",
     "text": [
      "['samwise', 'aragorn', 'boromir', 'legolas', 'gandalf']\n"
     ]
    }
   ],
   "source": [
    "# Filter() and lambda functions\n",
    "# In the previous exercise, you used lambda functions to anonymously embed an operation within map(). You will practice this again in this exercise \n",
    "# by using a lambda function with filter(), which may be new to you! The function filter() offers a way to filter out elements from a list that don't\n",
    "# satisfy certain criteria.\n",
    "# our goal in this exercise is to use filter() to create, from an input list of strings, a new list that contains only strings that have more than \n",
    "# 6 characters.\n",
    "\n",
    "# In the filter() call, pass a lambda function and the list of strings, fellowship. The lambda function should check if the number of characters in \n",
    "# a string member is greater than 6; use the len() function to do this. Assign the resulting filter object to result.\n",
    "fellowship = ['frodo', 'samwise', 'merry', 'pippin', 'aragorn', 'boromir', 'legolas', 'gimli', 'gandalf']\n",
    "result = filter(lambda member: len(member) > 6, fellowship)\n",
    "\n",
    "# Convert result to a list and print out the list.\n",
    "result_list = list(result)\n",
    "print(result_list)"
   ]
  },
  {
   "cell_type": "code",
   "execution_count": 195,
   "id": "3cd77983-dc2c-4cc1-b0ef-00e8abd9019b",
   "metadata": {},
   "outputs": [
    {
     "name": "stdout",
     "output_type": "stream",
     "text": [
      "robbsansaaryabrandonrickon\n"
     ]
    }
   ],
   "source": [
    "# Reduce() and lambda functions\n",
    "# You're getting very good at using lambda functions! Here's one more function to add to your repertoire of skills. The reduce() function is useful\n",
    "# for performing some computation on a list and, unlike map() and filter(), returns a single value as a result. To use reduce(), you must import it \n",
    "# from the functools module.\n",
    "\n",
    "# Remember gibberish() from a few exercises back?\n",
    "# def gibberish(*args):\n",
    "#     \"\"\"Concatenate strings in *args together.\"\"\"\n",
    "#     hodgepodge = ''\n",
    "#     for word in args:\n",
    "#         hodgepodge += word\n",
    "#     return hodgepodge\n",
    "\n",
    "# gibberish() simply takes a list of strings as an argument and returns, as a single-value result, the concatenation of all of these strings. In \n",
    "# this exercise, you will replicate this functionality by using reduce() and a lambda function that concatenates strings together.\n",
    "\n",
    "# Import the reduce function from the functools module.\n",
    "from functools import reduce\n",
    "\n",
    "# a list of strings: stark\n",
    "stark = ['robb', 'sansa', 'arya', 'brandon', 'rickon']\n",
    "\n",
    "# In the reduce() call, pass a lambda function that takes two string arguments item1 and item2 and concatenates them; also pass the list of strings,\n",
    "# stark. Assign the result to result. The first argument to reduce() should be the lambda function and the second argument is the list stark.\n",
    "result= reduce(lambda item1, item2: item1 + item2, stark)\n",
    "\n",
    "print(result)"
   ]
  },
  {
   "cell_type": "markdown",
   "id": "34faa1f4-e7d4-4594-b4c0-cdab57a1583f",
   "metadata": {},
   "source": [
    "## Error handling"
   ]
  },
  {
   "cell_type": "code",
   "execution_count": 202,
   "id": "670885b1-9ae8-4db1-9a83-90a76e726709",
   "metadata": {},
   "outputs": [
    {
     "name": "stdout",
     "output_type": "stream",
     "text": [
      "word1 must be a string and echo must be an integer.\n"
     ]
    },
    {
     "data": {
      "text/plain": [
       "''"
      ]
     },
     "execution_count": 202,
     "metadata": {},
     "output_type": "execute_result"
    }
   ],
   "source": [
    "# Error handling with try-except\n",
    "# In this exercise, you will define a function as well as use a try-except block for handling cases when incorrect input arguments are passed to the\n",
    "# function.\n",
    "\n",
    "# Define shout_echo\n",
    "def shout_echo(word1, echo= 1):\n",
    "    \"\"\"Concatenate echo copies of word1 and three exclamation marks at the end of the string.\"\"\"\n",
    "\n",
    "    # Initialize empty strings: echo_word, shout_words\n",
    "    echo_word= ''\n",
    "    shout_words= ''\n",
    "        \n",
    "    # Add exception handling with try-except\n",
    "    try:\n",
    "        # Concatenate echo copies of word1 using *: echo_word\n",
    "        echo_word= word1 * echo\n",
    "        \n",
    "        # Concatenate '!!!' to echo_word: shout_words\n",
    "        shout_words= echo_word + '!!!'\n",
    "    except:\n",
    "        # Print error message\n",
    "        print(\"word1 must be a string and echo must be an integer.\")\n",
    "        \n",
    "    return shout_words\n",
    "\n",
    "# Call shout_echo\n",
    "shout_echo(\"particle\", echo='any text here')\n",
    "#print(result)"
   ]
  },
  {
   "cell_type": "code",
   "execution_count": 203,
   "id": "638e8696-9972-471b-b329-7cdca30b8754",
   "metadata": {},
   "outputs": [
    {
     "ename": "ValueError",
     "evalue": "echo must be greater than or equal to 0",
     "output_type": "error",
     "traceback": [
      "\u001b[1;31m---------------------------------------------------------------------------\u001b[0m",
      "\u001b[1;31mValueError\u001b[0m                                Traceback (most recent call last)",
      "\u001b[1;32mC:\\Users\\MUSADA~1\\AppData\\Local\\Temp/ipykernel_5824/4156475073.py\u001b[0m in \u001b[0;36m<module>\u001b[1;34m\u001b[0m\n\u001b[0;32m     23\u001b[0m \u001b[1;33m\u001b[0m\u001b[0m\n\u001b[0;32m     24\u001b[0m \u001b[1;31m# Call shout_echo\u001b[0m\u001b[1;33m\u001b[0m\u001b[1;33m\u001b[0m\u001b[0m\n\u001b[1;32m---> 25\u001b[1;33m \u001b[0mshout_echo\u001b[0m\u001b[1;33m(\u001b[0m\u001b[1;34m\"particle\"\u001b[0m\u001b[1;33m,\u001b[0m \u001b[0mecho\u001b[0m\u001b[1;33m=\u001b[0m\u001b[1;33m-\u001b[0m\u001b[1;36m2\u001b[0m\u001b[1;33m)\u001b[0m\u001b[1;33m\u001b[0m\u001b[1;33m\u001b[0m\u001b[0m\n\u001b[0m",
      "\u001b[1;32mC:\\Users\\MUSADA~1\\AppData\\Local\\Temp/ipykernel_5824/4156475073.py\u001b[0m in \u001b[0;36mshout_echo\u001b[1;34m(word1, echo)\u001b[0m\n\u001b[0;32m     11\u001b[0m     \u001b[1;31m# Raise an error with raise\u001b[0m\u001b[1;33m\u001b[0m\u001b[1;33m\u001b[0m\u001b[0m\n\u001b[0;32m     12\u001b[0m     \u001b[1;32mif\u001b[0m \u001b[0mecho\u001b[0m \u001b[1;33m<\u001b[0m \u001b[1;36m0\u001b[0m\u001b[1;33m:\u001b[0m\u001b[1;33m\u001b[0m\u001b[1;33m\u001b[0m\u001b[0m\n\u001b[1;32m---> 13\u001b[1;33m         \u001b[1;32mraise\u001b[0m \u001b[0mValueError\u001b[0m\u001b[1;33m(\u001b[0m\u001b[1;34m'echo must be greater than or equal to 0'\u001b[0m\u001b[1;33m)\u001b[0m\u001b[1;33m\u001b[0m\u001b[1;33m\u001b[0m\u001b[0m\n\u001b[0m\u001b[0;32m     14\u001b[0m \u001b[1;33m\u001b[0m\u001b[0m\n\u001b[0;32m     15\u001b[0m     \u001b[1;31m# Concatenate echo copies of word1 using *: echo_word\u001b[0m\u001b[1;33m\u001b[0m\u001b[1;33m\u001b[0m\u001b[0m\n",
      "\u001b[1;31mValueError\u001b[0m: echo must be greater than or equal to 0"
     ]
    }
   ],
   "source": [
    "# Error handling by raising an error\n",
    "# Another way to raise an error is by using raise. In this exercise, you will add a raise statement to the shout_echo() function you defined before \n",
    "# to raise an error message when the value supplied by the user to the echo argument is less than 0.\n",
    "# The call to shout_echo() uses valid argument values. To test and see how the raise statement works, simply change the value for the echo argument \n",
    "# to a negative value. Don't forget to change it back to valid values to move on to the next exercise!\n",
    "\n",
    "# Define shout_echo\n",
    "def shout_echo(word1, echo=1):\n",
    "    \"\"\"Concatenate echo copies of word1 and three exclamation marks at the end of the string.\"\"\"\n",
    "\n",
    "    # Raise an error with raise\n",
    "    if echo < 0:\n",
    "        raise ValueError('echo must be greater than or equal to 0')\n",
    "\n",
    "    # Concatenate echo copies of word1 using *: echo_word\n",
    "    echo_word = word1 * echo\n",
    "\n",
    "    # Concatenate '!!!' to echo_word: shout_word\n",
    "    shout_word = echo_word + '!!!'\n",
    "\n",
    "    # Return shout_word\n",
    "    return shout_word\n",
    "\n",
    "# Call shout_echo\n",
    "shout_echo(\"particle\", echo=-2)\n"
   ]
  },
  {
   "cell_type": "code",
   "execution_count": 206,
   "id": "f9af6051-8814-4540-b5b7-a2aa4a5cee9d",
   "metadata": {},
   "outputs": [
    {
     "ename": "ValueError",
     "evalue": "echo must be greater than or equal to 0",
     "output_type": "error",
     "traceback": [
      "\u001b[1;31m---------------------------------------------------------------------------\u001b[0m",
      "\u001b[1;31mValueError\u001b[0m                                Traceback (most recent call last)",
      "\u001b[1;32mC:\\Users\\MUSADA~1\\AppData\\Local\\Temp/ipykernel_5824/88578658.py\u001b[0m in \u001b[0;36m<module>\u001b[1;34m\u001b[0m\n\u001b[1;32m----> 1\u001b[1;33m \u001b[0mshout_echo\u001b[0m\u001b[1;33m(\u001b[0m\u001b[1;34m'particle'\u001b[0m\u001b[1;33m,\u001b[0m \u001b[0mecho\u001b[0m\u001b[1;33m=\u001b[0m \u001b[1;33m-\u001b[0m\u001b[1;36m3\u001b[0m\u001b[1;33m)\u001b[0m\u001b[1;33m\u001b[0m\u001b[1;33m\u001b[0m\u001b[0m\n\u001b[0m",
      "\u001b[1;32mC:\\Users\\MUSADA~1\\AppData\\Local\\Temp/ipykernel_5824/4156475073.py\u001b[0m in \u001b[0;36mshout_echo\u001b[1;34m(word1, echo)\u001b[0m\n\u001b[0;32m     11\u001b[0m     \u001b[1;31m# Raise an error with raise\u001b[0m\u001b[1;33m\u001b[0m\u001b[1;33m\u001b[0m\u001b[0m\n\u001b[0;32m     12\u001b[0m     \u001b[1;32mif\u001b[0m \u001b[0mecho\u001b[0m \u001b[1;33m<\u001b[0m \u001b[1;36m0\u001b[0m\u001b[1;33m:\u001b[0m\u001b[1;33m\u001b[0m\u001b[1;33m\u001b[0m\u001b[0m\n\u001b[1;32m---> 13\u001b[1;33m         \u001b[1;32mraise\u001b[0m \u001b[0mValueError\u001b[0m\u001b[1;33m(\u001b[0m\u001b[1;34m'echo must be greater than or equal to 0'\u001b[0m\u001b[1;33m)\u001b[0m\u001b[1;33m\u001b[0m\u001b[1;33m\u001b[0m\u001b[0m\n\u001b[0m\u001b[0;32m     14\u001b[0m \u001b[1;33m\u001b[0m\u001b[0m\n\u001b[0;32m     15\u001b[0m     \u001b[1;31m# Concatenate echo copies of word1 using *: echo_word\u001b[0m\u001b[1;33m\u001b[0m\u001b[1;33m\u001b[0m\u001b[0m\n",
      "\u001b[1;31mValueError\u001b[0m: echo must be greater than or equal to 0"
     ]
    }
   ],
   "source": [
    "shout_echo('particle', echo= -3)  # very important: the part of the code which couldn't be executed is also shown."
   ]
  },
  {
   "cell_type": "markdown",
   "id": "4c229e6c-cd4b-4017-b029-2ecc3bc450b8",
   "metadata": {},
   "source": [
    "## Bring it all together"
   ]
  },
  {
   "cell_type": "code",
   "execution_count": 207,
   "id": "21e1ca28-bb8b-46b8-8aca-3636ff8b46ad",
   "metadata": {},
   "outputs": [
    {
     "name": "stdout",
     "output_type": "stream",
     "text": [
      "RT @bpolitics: .@krollbondrating's Christopher Whalen says Clinton is the weakest Dem candidate in 50 years https://t.co/pLk7rvoRSn https:/…\n",
      "RT @HeidiAlpine: @dmartosko Cruz video found.....racing from the scene.... #cruzsexscandal https://t.co/zuAPZfQDk3\n",
      "RT @AlanLohner: The anti-American D.C. elites despise Trump for his America-first foreign policy. Trump threatens their gravy train. https:…\n",
      "RT @BIackPplTweets: Young Donald trump meets his neighbor  https://t.co/RFlu17Z1eE\n",
      "RT @trumpresearch: @WaitingInBagdad @thehill Trump supporters have selective amnisia.\n",
      "RT @HouseCracka: 29,000+ PEOPLE WATCHING TRUMP LIVE ON ONE STREAM!!!\n",
      "\n",
      "https://t.co/7QCFz9ehNe\n",
      "RT @urfavandtrump: RT for Brendon Urie\n",
      "Fav for Donald Trump https://t.co/PZ5vS94lOg\n",
      "RT @trapgrampa: This is how I see #Trump every time he speaks. https://t.co/fYSiHNS0nT\n",
      "RT @trumpresearch: @WaitingInBagdad @thehill Trump supporters have selective amnisia.\n",
      "RT @Pjw20161951: NO KIDDING: #SleazyDonald just attacked Scott Walker for NOT RAISING TAXES in WI! #LyinTrump\n",
      "#NeverTrump  #CruzCrew  https…\n",
      "RT @urfavandtrump: RT for Brendon Urie\n",
      "Fav for Donald Trump https://t.co/PZ5vS94lOg\n",
      "RT @ggreenwald: The media spent all day claiming @SusanSarandon said she might vote for Trump. A total fabrication, but whatever... https:/…\n",
      "RT @Pjw20161951: NO KIDDING: #SleazyDonald just attacked Scott Walker for NOT RAISING TAXES in WI! #LyinTrump\n",
      "#NeverTrump  #CruzCrew  https…\n",
      "RT @trapgrampa: This is how I see #Trump every time he speaks. https://t.co/fYSiHNS0nT\n",
      "RT @mitchellvii: So let me get this straight.  Any reporter can assault Mr Trump at any time and Corey can do nothing?  Michelle is clearly…\n",
      "RT @paulbenedict7: How #Trump Sacks RINO Strongholds by Hitting Positions Held by Dems and GOP https://t.co/D7ulnAJhis   #tcot #PJNET https…\n",
      "RT @DRUDGE_REPORT: VIDEO:  Trump emotional moment with Former Miss Wisconsin who has terminal illness... https://t.co/qt06aG9inT\n",
      "RT @ggreenwald: The media spent all day claiming @SusanSarandon said she might vote for Trump. A total fabrication, but whatever... https:/…\n",
      "RT @DennisApgar: Thank God I seen Trump at first stop in Wisconsin media doesn't know how great he is, advice watch live streaming https://…\n",
      "RT @paulbenedict7: How #Trump Sacks RINO Strongholds by Hitting Positions Held by Dems and GOP https://t.co/D7ulnAJhis   #tcot #PJNET https…\n",
      "RT @DRUDGE_REPORT: VIDEO:  Trump emotional moment with Former Miss Wisconsin who has terminal illness... https://t.co/qt06aG9inT\n",
      "RT @DennisApgar: Thank God I seen Trump at first stop in Wisconsin media doesn't know how great he is, advice watch live streaming https://…\n",
      "RT @mitchellvii: So let me get this straight.  Any reporter can assault Mr Trump at any time and Corey can do nothing?  Michelle is clearly…\n",
      "RT @sciam: Trump's idiosyncratic patterns of speech are why people tend either to love or hate him https://t.co/QXwquVgs3c https://t.co/P9N…\n",
      "RT @Norsu2: Nightmare WI poll for Ted Cruz has Kasich surging: Trump 29, Kasich 27, Cruz 25. https://t.co/lJsgbLYY1P #NeverTrump\n",
      "RT @thehill: WATCH: Protester pepper-sprayed point blank at Trump rally https://t.co/B5f65Al9ld https://t.co/skAfByXuQc\n",
      "RT @sciam: Trump's idiosyncratic patterns of speech are why people tend either to love or hate him https://t.co/QXwquVgs3c https://t.co/P9N…\n",
      "RT @ggreenwald: The media spent all day claiming @SusanSarandon said she might vote for Trump. A total fabrication, but whatever... https:/…\n",
      "RT @DebbieStout5: Wow! Last I checked it was just 12 points &amp; that wasn't more than a day ago. Oh boy Trump ppl might want to rethink🤔 http…\n",
      "RT @tyleroakley: i'm a messy bitch, but at least i'm not voting for trump\n",
      "RT @vandives: Trump supporters r tired of justice NOT being served. There's no justice anymore. Hardworking Americans get screwed. That's n…\n",
      "RT @AP: BREAKING: Trump vows to stand by campaign manager charged with battery, says he does not discard people.\n",
      "RT @AP: BREAKING: Trump vows to stand by campaign manager charged with battery, says he does not discard people.\n",
      "RT @urfavandtrump: RT for Jerrie (Little Mix)\n",
      "Fav for Donald Trump https://t.co/nEVxElW6iG\n",
      "RT @urfavandtrump: RT for Jerrie (Little Mix)\n",
      "Fav for Donald Trump https://t.co/nEVxElW6iG\n",
      "RT @NoahCRothman: When Walker was fighting for reforms, Trump was defending unions and collective bargaining privileges https://t.co/e1UWNN…\n",
      "RT @RedheadAndRight: Report: Secret Service Says Michelle Fields Touched Trump https://t.co/c5c2sD8VO2\n",
      "\n",
      "This is the only article you will n…\n",
      "RT @AIIAmericanGirI: VIDEO=&gt; Anti-Trump Protester SLUGS Elderly Trump Supporter in the Face\n",
      "https://t.co/GeEryMDuDY\n",
      "RT @NoahCRothman: When Walker was fighting for reforms, Trump was defending unions and collective bargaining privileges https://t.co/e1UWNN…\n",
      "RT @JusticeRanger1: @realDonaldTrump @Pudingtane @DanScavino @GOP @infowars @EricTrump \n",
      "URGENT PUBLIC TRUMP ALERT:\n",
      "COVERT KILL MEANS https:…\n",
      "RT @AIIAmericanGirI: VIDEO=&gt; Anti-Trump Protester SLUGS Elderly Trump Supporter in the Face\n",
      "https://t.co/GeEryMDuDY\n",
      "RT @RedheadAndRight: Report: Secret Service Says Michelle Fields Touched Trump https://t.co/c5c2sD8VO2\n",
      "\n",
      "This is the only article you will n…\n",
      "RT @JusticeRanger1: @realDonaldTrump @Pudingtane @DanScavino @GOP @infowars @EricTrump \n",
      "URGENT PUBLIC TRUMP ALERT:\n",
      "COVERT KILL MEANS https:…\n",
      "RT @Schneider_CM: Trump says nobody had ever heard of executive orders before Obama started signing them. Never heard of the Emancipation P…\n",
      "RT @RonBasler1: @DavidWhitDennis @realDonaldTrump @tedcruz \n",
      "\n",
      "CRUZ SCREWS HOOKERS\n",
      "\n",
      "CRUZ / CLINTON\n",
      "RT @DonaldsAngel: Former Ms. WI just said that she is terminally ill but because of Trump pageant, her 7 yr. old son has his college educat…\n",
      "RT @Schneider_CM: Trump says nobody had ever heard of executive orders before Obama started signing them. Never heard of the Emancipation P…\n",
      "RT @DonaldsAngel: Former Ms. WI just said that she is terminally ill but because of Trump pageant, her 7 yr. old son has his college educat…\n",
      "RT @Dodarey: @DR8801 @SykesCharlie Charlie, let's see you get a straight \"yes\" or \"no\" answer from Cruz a/b being unfaithful to his wife @T…\n",
      "RT @RonBasler1: @DavidWhitDennis @realDonaldTrump @tedcruz \n",
      "\n",
      "CRUZ SCREWS HOOKERS\n",
      "\n",
      "CRUZ / CLINTON\n",
      "RT @RockCliffOne: Remember when the idea of a diabolical moron holding the world hostage was an idea for a funny movie? #Trump #GOP https:/…\n",
      "RT @HillaryClinton: \"Every day, another Republican bemoans the rise of Donald Trump... but [he] didn’t come out of nowhere.\" —Hillary\n",
      "https…\n",
      "RT @Dodarey: @DR8801 @SykesCharlie Charlie, let's see you get a straight \"yes\" or \"no\" answer from Cruz a/b being unfaithful to his wife @T…\n",
      "RT @HillaryClinton: \"Every day, another Republican bemoans the rise of Donald Trump... but [he] didn’t come out of nowhere.\" —Hillary\n",
      "https…\n",
      "RT @RockCliffOne: Remember when the idea of a diabolical moron holding the world hostage was an idea for a funny movie? #Trump #GOP https:/…\n",
      "RT @immigrant4trump: @immigrant4trump msm, cable news attacking trump all day, from 8am to 10pm today, then the reruns come on, repeating t…\n",
      "RT @immigrant4trump: @immigrant4trump msm, cable news attacking trump all day, from 8am to 10pm today, then the reruns come on, repeating t…\n",
      "RT @GlendaJazzey: Donald Trump’s Campaign Financing Dodge, @rrotunda https://t.co/L8flI4lswG via @VerdictJustia\n",
      "RT @TUSK81: LOUDER FOR THE PEOPLE IN THE BACK https://t.co/hlPVyNLXzx\n",
      "RT @loopzoop: Well...put it back https://t.co/8Yb7BDT5VM\n",
      "RT @claytoncubitt: Stop asking Bernie supporters if they’ll vote for Hillary against Trump. We got a plan to beat Trump already. Called Ber…\n",
      "RT @akaMaude13: Seriously can't make this up. What a joke. #NeverTrump  https://t.co/JkTx6mdRgC\n"
     ]
    }
   ],
   "source": [
    "# Bringing it all together (1)\n",
    "# This is awesome! You have now learned how to write anonymous functions using lambda, how to pass lambda functions as arguments to other functions \n",
    "# such as map(), filter(), and reduce(), as well as how to write errors and output custom error messages within your functions. You will now put \n",
    "# together these learnings to good use by working with a Twitter dataset. Before practicing your new error handling skills; in this exercise, you \n",
    "# will write a lambda function and use filter() to select retweets, that is, tweets that begin with the string 'RT'.\n",
    "\n",
    "# In the filter() call, pass a lambda function and the sequence of tweets as strings, tweets_df['text']. The lambda function should check if the \n",
    "# first 2 characters in a tweet x are 'RT'. Assign the resulting filter object to result. To get the first 2 characters in a tweet x, use x[0:2]. \n",
    "# To check equality, use a Boolean filter with ==\n",
    "# Convert result to a list and print out the list.\n",
    "# Select retweets from the Twitter DataFrame: result\n",
    "result = filter(lambda x: x[0:2] == 'RT', tweets_df['text'])\n",
    "\n",
    "# Create list from filter object result: res_list\n",
    "res_list= list(result)\n",
    "\n",
    "# Print all retweets in res_list\n",
    "for tweet in res_list:\n",
    "     print(tweet)\n"
   ]
  },
  {
   "cell_type": "code",
   "execution_count": 217,
   "id": "03c235dd-9b9c-4202-b460-0c35e42ca0a0",
   "metadata": {},
   "outputs": [
    {
     "name": "stdout",
     "output_type": "stream",
     "text": [
      "The DataFrame does not have a check column\n",
      "None\n"
     ]
    }
   ],
   "source": [
    "# Bringing it all together (2)\n",
    "#  In this exercise, you will improve on your previous work with the count_entries() function in the last chapter by adding a try-except block to \n",
    "# it. This will allow your function to provide a helpful message when the user calls your count_entries() function but provides a column name that \n",
    "# isn't in the DataFrame.\n",
    "\n",
    "# Add a try block so that when the function is called with the correct arguments, it processes the DataFrame and returns a dictionary of results.\n",
    "# Add an except block so that when the function is called incorrectly, it displays the following error message: 'The DataFrame does not have a ' \n",
    "# + col_name + ' column.'.\n",
    "\n",
    "def count_entries(df, *args):\n",
    "    \n",
    "    cols_count= {}\n",
    "    \n",
    "    try:\n",
    "        for col_name in args:\n",
    "            col= df[col_name]\n",
    "                        \n",
    "            for entry in col:\n",
    "                if entry in cols_count.keys():\n",
    "                    cols_count[entry]= cols_count[entry] + 1\n",
    "                \n",
    "                else:\n",
    "                    cols_count[entry]= 1\n",
    "                    \n",
    "        return cols_count\n",
    "            \n",
    "    except:\n",
    "        print('The DataFrame does not have a ' + col_name + ' column')\n",
    "            \n",
    "    \n",
    "\n",
    "results= count_entries(tweets_df, 'lang', 'source', 'check')\n",
    "print(results)\n",
    "            "
   ]
  },
  {
   "cell_type": "code",
   "execution_count": 221,
   "id": "3d45de71-3c1c-443d-84bb-c80496794968",
   "metadata": {},
   "outputs": [
    {
     "name": "stdout",
     "output_type": "stream",
     "text": [
      "The DataFrame does not have a test column.\n",
      "None\n"
     ]
    }
   ],
   "source": [
    "# the following is taken from the exercises but is the same as above (which I did from my own)\n",
    "# Define count_entries()\n",
    "def count_entries(df, col_name='lang'):\n",
    "    \"\"\"Return a dictionary with counts of\n",
    "    occurrences as value for each key.\"\"\"\n",
    "\n",
    "    # Initialize an empty dictionary: cols_count\n",
    "    cols_count = {}\n",
    "\n",
    "    # Add try block\n",
    "    try:\n",
    "        # Extract column from DataFrame: col\n",
    "        col = df[col_name]\n",
    "        \n",
    "        # Iterate over the column in DataFrame\n",
    "        for entry in col:\n",
    "    \n",
    "            # If entry is in cols_count, add 1\n",
    "            if entry in cols_count.keys():\n",
    "                cols_count[entry] += 1\n",
    "            # Else add the entry to cols_count, set the value to 1\n",
    "            else:\n",
    "                cols_count[entry] = 1\n",
    "    \n",
    "        # Return the cols_count dictionary\n",
    "        return cols_count\n",
    "\n",
    "    # Add except block\n",
    "    except:\n",
    "        print('The DataFrame does not have a ' + col_name + ' column.')\n",
    "\n",
    "# Call count_entries(): result1\n",
    "result1 = count_entries(tweets_df, col_name= 'test')  # try it with the column, lang or source, which works.\n",
    "\n",
    "# Print result1\n",
    "print(result1)"
   ]
  },
  {
   "cell_type": "code",
   "execution_count": 231,
   "id": "7d037d32-92ef-4cfc-9f52-b937de97198f",
   "metadata": {},
   "outputs": [
    {
     "ename": "ValueError",
     "evalue": "The DataFrame does not have a test column",
     "output_type": "error",
     "traceback": [
      "\u001b[1;31m---------------------------------------------------------------------------\u001b[0m",
      "\u001b[1;31mValueError\u001b[0m                                Traceback (most recent call last)",
      "\u001b[1;32mC:\\Users\\MUSADA~1\\AppData\\Local\\Temp/ipykernel_5824/1407442306.py\u001b[0m in \u001b[0;36m<module>\u001b[1;34m\u001b[0m\n\u001b[0;32m     34\u001b[0m \u001b[1;33m\u001b[0m\u001b[0m\n\u001b[0;32m     35\u001b[0m \u001b[1;31m# Call count_entries(): result1\u001b[0m\u001b[1;33m\u001b[0m\u001b[1;33m\u001b[0m\u001b[0m\n\u001b[1;32m---> 36\u001b[1;33m \u001b[0mresult1\u001b[0m\u001b[1;33m=\u001b[0m \u001b[0mcount_entries\u001b[0m\u001b[1;33m(\u001b[0m\u001b[0mtweets_df\u001b[0m\u001b[1;33m,\u001b[0m \u001b[0mcol_name\u001b[0m\u001b[1;33m=\u001b[0m \u001b[1;34m'test'\u001b[0m\u001b[1;33m)\u001b[0m \u001b[1;31m# it works fine for the valid column name like lang or source.\u001b[0m\u001b[1;33m\u001b[0m\u001b[1;33m\u001b[0m\u001b[0m\n\u001b[0m\u001b[0;32m     37\u001b[0m \u001b[1;33m\u001b[0m\u001b[0m\n\u001b[0;32m     38\u001b[0m \u001b[1;31m# Print result1\u001b[0m\u001b[1;33m\u001b[0m\u001b[1;33m\u001b[0m\u001b[0m\n",
      "\u001b[1;32mC:\\Users\\MUSADA~1\\AppData\\Local\\Temp/ipykernel_5824/1407442306.py\u001b[0m in \u001b[0;36mcount_entries\u001b[1;34m(df, col_name)\u001b[0m\n\u001b[0;32m     11\u001b[0m     \u001b[1;31m# Raise a ValueError if col_name is NOT in DataFrame\u001b[0m\u001b[1;33m\u001b[0m\u001b[1;33m\u001b[0m\u001b[0m\n\u001b[0;32m     12\u001b[0m     \u001b[1;32mif\u001b[0m \u001b[0mcol_name\u001b[0m \u001b[1;32mnot\u001b[0m \u001b[1;32min\u001b[0m \u001b[0mdf\u001b[0m\u001b[1;33m.\u001b[0m\u001b[0mcolumns\u001b[0m\u001b[1;33m:\u001b[0m\u001b[1;33m\u001b[0m\u001b[1;33m\u001b[0m\u001b[0m\n\u001b[1;32m---> 13\u001b[1;33m         \u001b[1;32mraise\u001b[0m \u001b[0mValueError\u001b[0m\u001b[1;33m(\u001b[0m\u001b[1;34m'The DataFrame does not have a '\u001b[0m \u001b[1;33m+\u001b[0m \u001b[0mcol_name\u001b[0m \u001b[1;33m+\u001b[0m \u001b[1;34m' column'\u001b[0m\u001b[1;33m)\u001b[0m\u001b[1;33m\u001b[0m\u001b[1;33m\u001b[0m\u001b[0m\n\u001b[0m\u001b[0;32m     14\u001b[0m \u001b[1;33m\u001b[0m\u001b[0m\n\u001b[0;32m     15\u001b[0m     \u001b[1;31m# Initialize an empty dictionary: cols_count\u001b[0m\u001b[1;33m\u001b[0m\u001b[1;33m\u001b[0m\u001b[0m\n",
      "\u001b[1;31mValueError\u001b[0m: The DataFrame does not have a test column"
     ]
    }
   ],
   "source": [
    "# Bringing it all together (3)\n",
    "# In the previous exercise, you built on your function count_entries() to add a try-except block. This was so that users would get helpful messages \n",
    "# when calling your count_entries() function and providing a column name that isn't in the DataFrame. In this exercise, you'll instead raise a \n",
    "# ValueError in the case that the user provides a column name that isn't in the DataFrame.\n",
    "\n",
    "# If col_name is not a column in the DataFrame df, raise a ValueError 'The DataFrame does not have a ' + col_name + ' column.'\n",
    "\n",
    "def count_entries(df, col_name= 'lang'):\n",
    "    \"\"\"Return a dictionary with counts of occurrences as value for each key.\"\"\"\n",
    "    \n",
    "    # Raise a ValueError if col_name is NOT in DataFrame\n",
    "    if col_name not in df.columns:\n",
    "        raise ValueError('The DataFrame does not have a ' + col_name + ' column')\n",
    "    \n",
    "    # Initialize an empty dictionary: cols_count\n",
    "    cols_count= {}\n",
    "       \n",
    "    # Extract column from DataFrame: col\n",
    "    col= df[col_name]\n",
    "        \n",
    "    # Iterate over the column in DataFrame\n",
    "    for entry in col:\n",
    "        \n",
    "        # If entry is in cols_count, add 1\n",
    "        if entry in cols_count.keys():\n",
    "            cols_count[entry] = cols_count[entry] + 1\n",
    "        \n",
    "        # Else add the entry to cols_count, set the value to 1\n",
    "        else:\n",
    "            cols_count[entry] = 1\n",
    "    \n",
    "    # Return the cols_count dictionary        \n",
    "    return cols_count\n",
    "            \n",
    "# Call count_entries(): result1\n",
    "result1= count_entries(tweets_df, col_name= 'test') # it works fine for the valid column name like lang or source.\n",
    "\n",
    "# Print result1\n",
    "print(result1)"
   ]
  },
  {
   "cell_type": "markdown",
   "id": "c9671cdc-5608-42f1-8948-4a6b71106ff3",
   "metadata": {},
   "source": [
    "# The End"
   ]
  },
  {
   "cell_type": "code",
   "execution_count": null,
   "id": "8e630cc4-9d62-46f1-8aaa-07332da0ef3b",
   "metadata": {},
   "outputs": [],
   "source": []
  }
 ],
 "metadata": {
  "kernelspec": {
   "display_name": "Python 3 (ipykernel)",
   "language": "python",
   "name": "python3"
  },
  "language_info": {
   "codemirror_mode": {
    "name": "ipython",
    "version": 3
   },
   "file_extension": ".py",
   "mimetype": "text/x-python",
   "name": "python",
   "nbconvert_exporter": "python",
   "pygments_lexer": "ipython3",
   "version": "3.10.0"
  }
 },
 "nbformat": 4,
 "nbformat_minor": 5
}
