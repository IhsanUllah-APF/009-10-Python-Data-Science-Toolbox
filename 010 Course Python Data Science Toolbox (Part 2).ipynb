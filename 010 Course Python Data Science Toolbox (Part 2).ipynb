{
 "cells": [
  {
   "cell_type": "markdown",
   "id": "f7aa8be3-e860-461f-81df-1783769719a5",
   "metadata": {},
   "source": [
    "# Chapter 1"
   ]
  },
  {
   "cell_type": "markdown",
   "id": "ca51991c-b274-4b69-ba4e-32ffdddc8646",
   "metadata": {},
   "source": [
    "## Iterators\n",
    "* Note: for loop converts iterable into terator object using method iter(). Then, it applies next() method to the iterator object to produce \n",
    "  consecutive values until the final value is produced."
   ]
  },
  {
   "cell_type": "code",
   "execution_count": 1,
   "id": "529c482f-e595-46b2-919b-258d420d5f13",
   "metadata": {},
   "outputs": [
    {
     "name": "stdout",
     "output_type": "stream",
     "text": [
      "jay garrick\n",
      "barry allen\n",
      "wally west\n",
      "bart allen\n",
      "\n",
      "\n",
      "<list_iterator object at 0x00000176D4D4C1F0>\n",
      "\n",
      "\n",
      "jay garrick\n",
      "barry allen\n",
      "wally west\n",
      "bart allen\n"
     ]
    }
   ],
   "source": [
    "# List\n",
    "# Iterating over iterables (1)\n",
    "# Great, you're familiar with what iterables and iterators are! In this exercise, you will reinforce your knowledge about these by iterating over \n",
    "# and printing from iterables and iterators.\n",
    "# You are provided with a list of strings flash. You will practice iterating over the list by using a for loop. You will also create an iterator for\n",
    "# the list and access the values from the iterator.\n",
    "\n",
    "# Create a list of strings: flash\n",
    "flash = ['jay garrick', 'barry allen', 'wally west', 'bart allen']\n",
    "\n",
    "# Create a for loop to loop over flash and print the values in the list. Use person as the loop variable.\n",
    "for person in flash:\n",
    "    print(person)\n",
    "\n",
    "# Create an iterator for the list flash and assign the result to superhero.\n",
    "superhero= iter(flash)\n",
    "# Print superhero to see that it is an iterator object\n",
    "print('\\n')\n",
    "print(superhero)\n",
    "print('\\n')\n",
    "\n",
    "# Print each of the items from superhero using next() 4 times.\n",
    "print(next(superhero))\n",
    "print(next(superhero))\n",
    "print(next(superhero))\n",
    "print(next(superhero))"
   ]
  },
  {
   "cell_type": "code",
   "execution_count": 5,
   "id": "57ee9a47-a288-453c-8a7d-df2bd995f144",
   "metadata": {},
   "outputs": [
    {
     "name": "stdout",
     "output_type": "stream",
     "text": [
      "<range_iterator object at 0x00000176D582FE10>\n",
      "0\n",
      "1\n",
      "2\n",
      "\n",
      "\n",
      "0\n",
      "1\n",
      "2\n",
      "\n",
      "\n",
      "<longrange_iterator object at 0x00000176D4D66EA0>\n",
      "0\n",
      "1\n",
      "2\n",
      "3\n",
      "4\n"
     ]
    }
   ],
   "source": [
    "# range()\n",
    "# Iterating over iterables (2)\n",
    "# One of the things you learned about in this chapter is that not all iterables are actual lists. A couple of examples that we looked at are strings\n",
    "# and the use of the range() function. In this exercise, we will focus on the range() function.\n",
    "\n",
    "# You can use range() in a for loop as if it's a list to be iterated over:\n",
    "# for i in range(5):\n",
    "#     print(i)\n",
    "\n",
    "# Recall that range() doesn't actually create the list; instead, it creates a range object with an iterator that produces the values until it \n",
    "# reaches the limit (in the example, until the value 4). If range() created the actual list, calling it with a value of 10^100 may not work, \n",
    "# especially since a number as big as that may go over a regular computer's memory. The value 10^100 is actually what's called a Googol which is \n",
    "# a 1 followed by a hundred 0s. That's a huge number!\n",
    "\n",
    "# Your task for this exercise is to show that calling range() with 10^100 won't actually pre-create the list.\n",
    "\n",
    "# Create an iterator object small_value over range(3) using the function iter().\n",
    "small_value= iter(range(3))\n",
    "print(small_value)\n",
    "\n",
    "# Print the values in small_value\n",
    "print(next(small_value))\n",
    "print(next(small_value))\n",
    "print(next(small_value))\n",
    "print('\\n')\n",
    "\n",
    "# Using a for loop, iterate over range(3), printing the value for every iteration. Use num as the loop variable.\n",
    "for num in range(3):\n",
    "    print(num)\n",
    "\n",
    "print('\\n')\n",
    "    \n",
    "# Create an iterator object googol over range(10 ** 100).\n",
    "googol= iter(range(10 ** 100))\n",
    "print(googol)\n",
    "\n",
    "# Print the first 5 values from googol\n",
    "print(next(googol))\n",
    "print(next(googol))\n",
    "print(next(googol))\n",
    "print(next(googol))\n",
    "print(next(googol))\n",
    "\n",
    "#print(*googol) # too large error\n",
    "\n",
    "# Note: for loop converts iterable into terator object using method iter(). Then, it applies next() method to the iterator object to produce \n",
    "# consecutive values until the final value is produced."
   ]
  },
  {
   "cell_type": "code",
   "execution_count": 9,
   "id": "8b64c929-6fcf-42ba-9b44-db3a99207e53",
   "metadata": {},
   "outputs": [
    {
     "name": "stdout",
     "output_type": "stream",
     "text": [
      "range(10, 21)\n",
      "<class 'range'>\n",
      "\n",
      "\n",
      "[10, 11, 12, 13, 14, 15, 16, 17, 18, 19, 20]\n",
      "\n",
      "\n",
      "165\n"
     ]
    }
   ],
   "source": [
    "# Iterators as function arguments\n",
    "# iterable --> to which iter() function can be applied to create an iterator object.\n",
    "# iterator object --> to which next() function can be applied to retrieve the successive values one by one.\n",
    "# You've been using the iter() function to get an iterator object, as well as the next() function to retrieve the values one by one from the \n",
    "# iterator object.\n",
    "# There are also functions that take iterators and iterables as arguments. For example, the list() and sum() functions return a list and the sum of \n",
    "# elements, respectively.\n",
    "# In this exercise, you will use these functions by passing an iterable from range() and then printing the results of the function calls.\n",
    "\n",
    "# Create a range object that would produce the values from 10 to 20 using range(). Assign the result to values.\n",
    "values= range(10, 21)     \n",
    "\n",
    "# Print the range object\n",
    "print(values)\n",
    "print(type(values))      # 'values' is an object of a class 'range'. So, it is a 'range object'. It is also an iterable but not iterator. So, we can\n",
    "                         # loop over it, but we cannot apply next() to it. We can, however, convert it to iterator object by applying iter() to it.\n",
    "print('\\n')\n",
    "# Use the list() function to create a list of values from the range object values. Assign the result to values_list.\n",
    "values_list= list(values)     # range object 'values' is itererable. So, iter() method can be applied to it. Method list() takes iterable an an argume- and\n",
    "# Print values_list           # nt and converts it to list.\n",
    "print(values_list)\n",
    "\n",
    "print('\\n')\n",
    "# Use the sum() function to get the sum of the values from 10 to 20 from the range object values. Assign the result to values_sum.\n",
    "values_sum= sum(values)   # again, function sum() takes iterable (values) an an argument.\n",
    "# Print values_sum\n",
    "print(values_sum)"
   ]
  },
  {
   "cell_type": "markdown",
   "id": "6be5e0b4-c7f9-4460-8c97-2de2457a214b",
   "metadata": {},
   "source": [
    "## Playing with iterators"
   ]
  },
  {
   "cell_type": "code",
   "execution_count": 15,
   "id": "92cba527-73f4-469a-af52-41c9b610d0f6",
   "metadata": {},
   "outputs": [
    {
     "name": "stdout",
     "output_type": "stream",
     "text": [
      "<enumerate object at 0x00000176D5893800>\n",
      "<class 'enumerate'>\n",
      "\n",
      "\n",
      "[(0, 'charles xavier'), (1, 'bobby drake'), (2, 'kurt wagner'), (3, 'max eisenhardt'), (4, 'kitty pryde')]\n",
      "\n",
      "\n",
      "\n",
      "\n",
      "0 charles xavier\n",
      "1 bobby drake\n",
      "2 kurt wagner\n",
      "3 max eisenhardt\n",
      "4 kitty pryde\n",
      "\n",
      "\n",
      "1 charles xavier\n",
      "2 bobby drake\n",
      "3 kurt wagner\n",
      "4 max eisenhardt\n",
      "5 kitty pryde\n"
     ]
    }
   ],
   "source": [
    "# Using enumerate (enumerate() function creates an iterator)\n",
    "# You've just gained several new ideas on iterators from the last video and one of them is the enumerate() function. Recall that enumerate() returns \n",
    "# an enumerate object that produces a sequence/list of tuples, and each of the tuples is an index-value pair.\n",
    "# In this exercise, you are given a list of strings mutants and you will practice using enumerate() on it by printing out a list of tuples and \n",
    "# unpacking the tuples using a for loop.\n",
    "\n",
    "# Create a list of tuples from mutants and assign the result to mutant_list. Make sure you generate the tuples using enumerate() and turn the result\n",
    "# from it into a list using list().\n",
    "mutants = ['charles xavier', 'bobby drake', 'kurt wagner', 'max eisenhardt', 'kitty pryde']\n",
    "\n",
    "# Create a list of tuples from mutants and assign the result to mutant_list. Make sure you generate the tuples using enumerate() and turn the\n",
    "# result from it into a list using list().\n",
    "e= enumerate(mutants)     # e is an object of class 'enumerate'. This object contains tuples of index-value pairs. \n",
    "print(e)\n",
    "print(type(e))\n",
    "# print(next(e))           # this works. thus, the enumerate object (e) is an iterator as well.\n",
    "\n",
    "print('\\n')\n",
    "# convert the enumerate object into a list of tuples since the object contains tuples\n",
    "mutant_list= list(e)  # the argument here is iterator. thus, list accepts and converts iterator into list which can then be printed off.  \n",
    "print(mutant_list)\n",
    "\n",
    "print('\\n')\n",
    "# Complete the first for loop by unpacking the tuples generated by calling enumerate() on mutants. Use index1 for the index and value1 for the value\n",
    "# when unpacking the tuple.\n",
    "for index1, value1 in e:   # comment out the list method above for this loop to work since after the list method the enumerate object, e, does not\n",
    "    print(index1, value1)  # exist. the for loop unpacks the first tuple, stores its first element (index value) in index1 and sencond element (string)\n",
    "                           # in value1 and then print them off.It does the same for all other tuples contined in enumerate object/iterator e.\n",
    "print('\\n')\n",
    "# Alternatively,\n",
    "for index1, value1 in enumerate(mutants):  # this does not require commenting out the list method above since new enumerate object is created here.\n",
    "    print(index1, value1)\n",
    "\n",
    "print('\\n')\n",
    "# Complete the second for loop similarly as with the first, but this time change the starting index to start from 1 by passing it in as an argument \n",
    "# to the start parameter of enumerate(). Use index2 for the index and value2 for the value when unpacking the tuple.\n",
    "for index2, value2 in enumerate(mutants, start= 1):\n",
    "    print(index2, value2)\n"
   ]
  },
  {
   "cell_type": "code",
   "execution_count": 43,
   "id": "a6eefe89-6d1a-435b-8029-f49682b31847",
   "metadata": {},
   "outputs": [
    {
     "name": "stdout",
     "output_type": "stream",
     "text": [
      "[('charles xavier', 'prof x', 'telepathy'), ('bobby drake', 'iceman', 'thermokinesis'), ('kurt wagner', 'nightcrawler', 'teleportation'), ('max eisenhardt', 'magneto', 'magnetokinesis'), ('kitty pryde', 'shadowcat', 'intangibility')]\n",
      "\n",
      "\n",
      "<zip object at 0x00000176D6C35200>\n",
      "<class 'zip'>\n",
      "\n",
      "\n",
      "charles xavier prof x telepathy\n",
      "bobby drake iceman thermokinesis\n",
      "kurt wagner nightcrawler teleportation\n",
      "max eisenhardt magneto magnetokinesis\n",
      "kitty pryde shadowcat intangibility\n",
      "\n",
      "\n",
      "[('charles xavier', 'prof x', 'telepathy'), ('bobby drake', 'iceman', 'thermokinesis'), ('kurt wagner', 'nightcrawler', 'teleportation'), ('max eisenhardt', 'magneto', 'magnetokinesis'), ('kitty pryde', 'shadowcat', 'intangibility')]\n"
     ]
    }
   ],
   "source": [
    "# Using zip (zip() function creates an iterator)\n",
    "# Another interesting function that you've learned is zip(), which takes any number of iterables and returns a zip object that is an iterator of \n",
    "# tuples. If you wanted to print the values of a zip object, you can convert it into a list and then print it. Printing just a zip object will not \n",
    "# return the values unless you unpack it first. In this exercise, you will explore this for yourself.\n",
    "\n",
    "# Three lists of strings are pre-loaded: mutants, aliases, and powers. First, you will use list() and zip() on these lists to generate a list of \n",
    "# tuples. Then, you will create a zip object using zip(). Finally, you will unpack this zip object in a for loop to print the values in each tuple.\n",
    "# Observe the different output generated by printing the list of tuples, then the zip object, and finally, the tuple values in the for loop.\n",
    "\n",
    "mutants= ['charles xavier', 'bobby drake', 'kurt wagner', 'max eisenhardt', 'kitty pryde']\n",
    "aliases= ['prof x', 'iceman', 'nightcrawler', 'magneto', 'shadowcat']\n",
    "powers= ['telepathy', 'thermokinesis', 'teleportation', 'magnetokinesis', 'intangibility']\n",
    "\n",
    "# Using zip() with list(), create a list of tuples from the three lists mutants, aliases, and powers (in that order) and assign the result to \n",
    "# mutant_data.\n",
    "mutant_data= list(zip(mutants, aliases, powers))\n",
    "print(mutant_data)\n",
    "print('\\n')\n",
    "\n",
    "# Using zip(), create a zip object called mutant_zip from the three lists mutants, aliases, and powers.\n",
    "mutant_zip= zip(mutants, aliases, powers)\n",
    "print(mutant_zip)\n",
    "print(type(mutant_zip))    # an object of class zip. The object cotains a tuple of first element from each list, a tuple of second element from each\n",
    "                          # list and so on.\n",
    "#print(next(mutant_zip))   # this works. thus, the zip object (mutant_zip) is an iterator as well.\n",
    "print('\\n')\n",
    "\n",
    "# Complete the for loop by unpacking the zip object you created and printing the tuple values. Use value1, value2, value3 for the values from each \n",
    "# of mutants, aliases, and powers, in that order.\n",
    "for value1, value2, value3 in mutant_zip:   # unpacking a tuple requires taking the values in tuple, seperating them, and storing them in seperate  \n",
    "    print(value1, value2, value3)           # variables (value1, value2, value3). The lack of () indicating tuple gets eliminated during this unpacking.\n",
    "print('\\n') \n",
    "\n",
    "# alternatively, the list of tuples cotaining in the zip object can be accessed as: \n",
    "mutant_zip= zip(mutants, aliases, powers)\n",
    "zip_list= list(mutant_zip)\n",
    "print(zip_list)\n"
   ]
  },
  {
   "cell_type": "code",
   "execution_count": 23,
   "id": "20a95316-507e-4d76-9464-9a15060f61c6",
   "metadata": {},
   "outputs": [
    {
     "name": "stdout",
     "output_type": "stream",
     "text": [
      "<zip object at 0x00000176D58B1800>\n",
      "<class 'zip'>\n",
      "\n",
      "\n",
      "('charles xavier', 'telepathy') ('bobby drake', 'thermokinesis') ('kurt wagner', 'teleportation') ('max eisenhardt', 'magnetokinesis') ('kitty pryde', 'intangibility')\n",
      "\n",
      "\n",
      "<zip object at 0x00000176D58B1280>\n",
      "('charles xavier', 'bobby drake', 'kurt wagner', 'max eisenhardt', 'kitty pryde')\n",
      "('telepathy', 'thermokinesis', 'teleportation', 'magnetokinesis', 'intangibility')\n",
      "\n",
      "\n",
      "True\n",
      "True\n"
     ]
    }
   ],
   "source": [
    "# Using * and zip to 'unzip'\n",
    "# You know how to use zip() as well as how to print out values from a zip object. Excellent!\n",
    "# Let's play around with zip() a little more. There is no unzip function for doing the reverse of what zip() does. We can, however, reverse what has\n",
    "# been zipped together by using zip() with a little help from *! * unpacks an iterable such as a list or a tuple into positional arguments in a \n",
    "# function call.\n",
    "# In this exercise, you will use * in a call to zip() to unpack the tuples produced by zip(). \n",
    "\n",
    "# wo tuples of strings, mutants and powers have been pre-loaded.\n",
    "mutants= ('charles xavier', 'bobby drake', 'kurt wagner', 'max eisenhardt', 'kitty pryde')\n",
    "powers= ('telepathy', 'thermokinesis', 'teleportation', 'magnetokinesis', 'intangibility')\n",
    "\n",
    "# Create a zip object by using zip() on mutants and powers, in that order. Assign the result to z1.\n",
    "z1= zip(mutants, powers)\n",
    "print(z1) \n",
    "print(type(z1))    # z1 is an object of class zip, containing element-wise tuples of the original tuples.\n",
    "print('\\n')\n",
    "\n",
    "# Print the tuples in z1 by unpacking them into positional arguments using the * operator in a print() call.\n",
    "print(*z1) # zip object, z1, contains these tuples, which are printed off.\n",
    "print('\\n')\n",
    "\n",
    "# Because the previous print() call would have exhausted the elements in z1, recreate the zip object you defined earlier and assign the result \n",
    "# again to z1.\n",
    "z1= zip(mutants, powers)\n",
    "\n",
    "# 'Unzip' the tuples in z1 by unpacking them into positional arguments using the * operator in a zip() call. Assign the results to result1 and \n",
    "# result2, in that order.\n",
    "# 'Unzip' the tuples in z1 by unpacking with * and zip(): result1, result2\n",
    "result1, result2= zip(*z1)   # using * in a zip call with a zip object used as an argument unzips the values in tuples contained in zip object z1\n",
    "print(z1)                    # and restores the original tuples in result1 and result2. Note that the zip object, z1, still exists.\n",
    "print(result1)\n",
    "print(result2)\n",
    "print('\\n')\n",
    "\n",
    "# Check if unpacked tuples are equivalent to original tuples\n",
    "print(result1==mutants)\n",
    "print(result2==powers)"
   ]
  },
  {
   "cell_type": "markdown",
   "id": "f2a50825-4909-4e7c-ae2e-ac84eadf9568",
   "metadata": {},
   "source": [
    "## Using iterators to store large files into memory"
   ]
  },
  {
   "cell_type": "code",
   "execution_count": 49,
   "id": "802ccb1b-ee19-4410-8dd5-a25921bcee2a",
   "metadata": {},
   "outputs": [
    {
     "name": "stdout",
     "output_type": "stream",
     "text": [
      "{'en': 97, 'et': 1, 'und': 2}\n",
      "<pandas.io.parsers.readers.TextFileReader object at 0x00000176D3D339D0>\n"
     ]
    }
   ],
   "source": [
    "# Processing large amounts of Twitter data (using iterator to read and bring a large file into memory piece by piece)\n",
    "# Sometimes, the data we have to process reaches a size that is too much for a computer's memory to handle. This is a common problem faced by data \n",
    "# scientists. A solution to this is to process an entire data source chunk by chunk, instead of a single go all at once.\n",
    "# In this exercise, you will do just that. You will process a large csv file of Twitter data in the same way that you processed 'tweets.csv' in \n",
    "# Bringing it all together exercises of the prequel course, but this time, working on it in chunks of 10 entries at a time. \n",
    "# If you are interested in learning how to access Twitter data so you can work with it on your own system, refer to Part 2 of the DataCamp course \n",
    "# on Importing Data in Python.\n",
    "\n",
    "# import pandas\n",
    "import pandas as pd\n",
    "# Initialize an empty dictionary counts_dict for storing the results of processing the Twitter data.\n",
    "counts_dict= {}\n",
    "\n",
    "# Iterate over the 'tweets.csv' file by using a for loop. Use the loop variable chunk and iterate over the call to pd.read_csv() with a chunksize of\n",
    "# 10.\n",
    "for chunk in pd.read_csv('tweets.csv', chunksize= 10): # pd.read_csv('tweets.csv', chunksize= 10) creates an interator object, which contains the file\n",
    "                                                       # divided into portions with each portion containing 10 observations/rows. The for loop takes\n",
    "                                                       # each portion one by one, unpacks its 10 observations and store them in 'chunk' as a data frame\n",
    "                                                       # thus, this large file is brought into memory in pieces with the help of itertor.\n",
    "    # In the inner loop, iterate over the column 'lang' in chunk by using a for loop. Use the loop variable entry.\n",
    "    for entry in chunk['lang']:\n",
    "        if entry in counts_dict.keys():\n",
    "            counts_dict[entry]= counts_dict[entry] + 1\n",
    "            \n",
    "        else:\n",
    "            counts_dict[entry]= 1\n",
    "              \n",
    "# Print the populated dictionary\n",
    "print(counts_dict)  # produce the single dictionary at the end when the required operation has been performed on all the chunks.\n",
    "\n",
    "df = pd.read_csv('tweets.csv', chunksize= 10)\n",
    "\n",
    "# print(next(df))    # it works, so pd.read_csv('tweets.csv', chunksize= 10) creates an interator object.\n",
    "print(df)"
   ]
  },
  {
   "cell_type": "code",
   "execution_count": 56,
   "id": "af57c4f2-5efa-4718-853e-25f56eb5fcf1",
   "metadata": {},
   "outputs": [
    {
     "name": "stdout",
     "output_type": "stream",
     "text": [
      "{'en': 97, 'et': 1, 'und': 2}\n"
     ]
    }
   ],
   "source": [
    "# Extracting information for large amounts of Twitter data\n",
    "# Great job chunking out that file in the previous exercise. You now know how to deal with situations where you need to process a very large file \n",
    "# and that's a very useful skill to have!\n",
    "# It's good to know how to process a file in smaller, more manageable chunks, but it can become very tedious having to write and rewrite the same \n",
    "# code for the same task each time. In this exercise, you will be making your code more reusable by putting your work in the last exercise in a \n",
    "# function definition.\n",
    "\n",
    "# Define the function count_entries(), which has 3 parameters. The first parameter is csv_file for the filename, the second is c_size for the chunk \n",
    "# size, and the last is colname for the column name.\n",
    "# Iterate over the file in 'csv_file' file by using a for loop. Use the loop variable chunk and iterate over the call to pd.read_csv(), passing \n",
    "# c_size to chunksize.\n",
    "def count_entries(csv_file, c_size, colname):\n",
    "    \"\"\"Return a dictionary with counts of occurrences as value for each key.\"\"\"\n",
    "    \n",
    "    # Initialize an empty dictionary outside the for loops so that it does not cease to exist after the for loops have been excuted: counts_dict\n",
    "    counts_dict= {}\n",
    "    \n",
    "    # Iterate over the file chunk by chunk\n",
    "    for chunk in pd.read_csv(csv_file, chunksize= c_size):  # see the comment above in the upper cell for this for loop, which applies here as well.\n",
    "        \n",
    "        col= chunk[colname]\n",
    "        \n",
    "        # Iterate over the column in DataFrame\n",
    "        for entry in col:                    # col evaluates to chunk[colname]\n",
    "            \n",
    "            if entry in counts_dict.keys():\n",
    "                counts_dict[entry]= counts_dict[entry] + 1\n",
    "                \n",
    "            else:\n",
    "                counts_dict[entry]= 1\n",
    "    \n",
    "    # Return counts_dict outside the body of for loops since this dictionary is complete only when the for loops have been fully executed.\n",
    "    return counts_dict\n",
    "        \n",
    "# Call the count_entries() function by passing to it the filename 'tweets.csv', the size of chunks 10, and the name of the column to count, 'lang'. \n",
    "# Assign the result of the call to the variable result_counts.\n",
    "result_counts= count_entries('tweets.csv', 10, 'lang')  # now we don't have to modify the code repeatedly for different file, chunksize or column. All\n",
    "print(result_counts)                                    # we need to do is to provide the required arguments to the function."
   ]
  },
  {
   "cell_type": "markdown",
   "id": "d8c4e3da-e2eb-4b5a-b7eb-3a5e3147f040",
   "metadata": {},
   "source": [
    "# Chapter 2"
   ]
  },
  {
   "cell_type": "markdown",
   "id": "55b12f67-637c-4e0a-984f-2688f8b7ea21",
   "metadata": {},
   "source": [
    "## List comprehension"
   ]
  },
  {
   "cell_type": "code",
   "execution_count": 57,
   "id": "72b1ca43-10d5-4915-b89e-9a882d51360b",
   "metadata": {},
   "outputs": [
    {
     "name": "stdout",
     "output_type": "stream",
     "text": [
      "['h', 'c', 'c', 't', 'w']\n"
     ]
    }
   ],
   "source": [
    "# Write a basic list comprehension\n",
    "# In this exercise, you will practice what you've learned from the video about writing list comprehensions. You will write a list comprehension and\n",
    "# identify the output that will be produced.\n",
    "\n",
    "# The following list has been pre-loaded in the environment.\n",
    "doctor = ['house', 'cuddy', 'chase', 'thirteen', 'wilson']\n",
    "\n",
    "# How would a list comprehension that produces a list of the first character of each string in doctor look like? Note that the list comprehension \n",
    "# uses doc as the iterator variable. What will the output be?\n",
    "\n",
    "list_fc= [doc[0] for doc in doctor]\n",
    "print(list_fc)"
   ]
  },
  {
   "cell_type": "code",
   "execution_count": 58,
   "id": "e2d5a70b-a7d5-4fb3-bace-0eef5ef360a7",
   "metadata": {},
   "outputs": [
    {
     "name": "stdout",
     "output_type": "stream",
     "text": [
      "['house', 'cuddy', 'chase', 'thirteen', 'wilson']\n",
      "[0, 1, 2, 3, 4, 5, 6, 7, 8, 9, 10, 11, 12, 13, 14, 15, 16, 17, 18, 19, 20, 21, 22, 23, 24, 25, 26, 27, 28, 29, 30, 31, 32, 33, 34, 35, 36, 37, 38, 39, 40, 41, 42, 43, 44, 45, 46, 47, 48, 49]\n",
      "['A', 'f', 't', 'e', 'r', ' ', 'a', 'l', 'l', ',', ' ', 'w', 'e', ' ', 'a', 'r', 'e', ' ', 'n', 'o', 't', 'h', 'i', 'n', 'g', ' ', 'm', 'o', 'r', 'e', ' ', 'o', 'r', ' ', 'l', 'e', 's', 's', ' ', 't', 'h', 'a', 'n', ' ', 'w', 'h', 'a', 't', ' ', 'w', 'e', ' ', 'c', 'h', 'o', 'o', 's', 'e', ' ', 't', 'o', ' ', 'r', 'e', 'v', 'e', 'a', 'l', '.']\n",
      "['2', '4', '6', '0', '1']\n",
      "['jay garrick', 'barry allen', 'wally west', 'bart allen']\n"
     ]
    }
   ],
   "source": [
    "# List comprehension over iterables\n",
    "# You know that list comprehensions can be built over iterables. Given the following objects below, which of these can we build list comprehensions\n",
    "# over?\n",
    "\n",
    "doctor = ['house', 'cuddy', 'chase', 'thirteen', 'wilson']\n",
    "range(50)\n",
    "underwood = 'After all, we are nothing more or less than what we choose to reveal.' # note the interesting output from this one\n",
    "jean = '24601'\n",
    "flash = ['jay garrick', 'barry allen', 'wally west', 'bart allen']\n",
    "valjean = 24601              # int is not iterable, so it cannot be used in list comprehension.\n",
    "\n",
    "result_list= [item for item in doctor]\n",
    "print(result_list)\n",
    "\n",
    "result_list= [item for item in range(50)]\n",
    "print(result_list)\n",
    "\n",
    "result_list= [item for item in underwood]\n",
    "print(result_list)\n",
    "\n",
    "result_list= [item for item in jean]\n",
    "print(result_list)\n",
    "\n",
    "result_list= [item for item in flash]\n",
    "print(result_list)\n",
    "\n",
    "# result_list= [item for item in valjean] \n",
    "# print(result_list)"
   ]
  },
  {
   "cell_type": "code",
   "execution_count": null,
   "id": "b2d4bec6-0750-41c1-956e-429a605cbcdf",
   "metadata": {},
   "outputs": [],
   "source": [
    "# Writing list comprehensions\n",
    "# You now have all the knowledge necessary to begin writing list comprehensions! Your job in this exercise is to write a list comprehension that\n",
    "# produces a list of the squares of the numbers ranging from 0 to 9.\n",
    "\n",
    "squares_list= [num ** 2 for num in range(10)]\n",
    "print(squares_list)"
   ]
  },
  {
   "cell_type": "code",
   "execution_count": 59,
   "id": "0e83f193-b62e-4c76-8b8a-4c350bcf8cc4",
   "metadata": {},
   "outputs": [
    {
     "name": "stdout",
     "output_type": "stream",
     "text": [
      "[[0, 1, 2, 3, 4], [0, 1, 2, 3, 4], [0, 1, 2, 3, 4], [0, 1, 2, 3, 4], [0, 1, 2, 3, 4]]\n",
      "[[0, 1, 2, 3, 4], [0, 1, 2, 3, 4], [0, 1, 2, 3, 4], [0, 1, 2, 3, 4], [0, 1, 2, 3, 4]]\n",
      "[0, 1, 2, 3, 4]\n",
      "[0, 1, 2, 3, 4]\n",
      "[0, 1, 2, 3, 4]\n",
      "[0, 1, 2, 3, 4]\n",
      "[0, 1, 2, 3, 4]\n"
     ]
    }
   ],
   "source": [
    "# Nested list comprehensions\n",
    "# Great! At this point, you have a good grasp of the basic syntax of list comprehensions. Let's push your code-writing skills a little further. In \n",
    "# this exercise, you will be writing a list comprehension within another list comprehension, or nested list comprehensions. It sounds a little \n",
    "# tricky, but you can do it!\n",
    "# Let's step aside for a while from strings. One of the ways in which lists can be used are in representing multi-dimension objects such as \n",
    "# matrices. Matrices can be represented as a list of lists in Python. For example a 5 x 5 matrix with values 0 to 4 in each row can be written as:\n",
    "\n",
    "matrix = [[0, 1, 2, 3, 4],\n",
    "          [0, 1, 2, 3, 4],\n",
    "          [0, 1, 2, 3, 4],\n",
    "          [0, 1, 2, 3, 4],\n",
    "          [0, 1, 2, 3, 4]]\n",
    "\n",
    "# Your task is to recreate this matrix by using nested listed comprehensions. Recall that you can create one of the rows of the matrix with a single\n",
    "# list comprehension. To create the list of lists, you simply have to supply the list comprehension as the output expression of the overall list \n",
    "# comprehension:\n",
    "\n",
    "# My own method: it words but may be inefficient.\n",
    "matrix_list= [[num for num in range(5)], [num for num in range(5)], [num for num in range(5)], [num for num in range(5)], [num for num in range(5)]]\n",
    "print(matrix_list)\n",
    "\n",
    "# The exercise method: the first inner list is the output expression. Outside the inner list is the iterable part of the list comprehension. In \n",
    "# iterable part when row = 0, the output ([0, 1, 2, 3, 4]) is produced. Then, the same output is produced when row = 1. This way, output is produced\n",
    "# 5 times till row equals 5. The iterable part is only to ensure that output expression is executed 5 times. Nothing else it has to do with the \n",
    "# output produced.\n",
    "matrix_list1= [[num for num in range(5)] for row in range(5)]\n",
    "print(matrix_list1)\n",
    "\n",
    "for inner in matrix_list1:   # works the same with my method (matrix_list)\n",
    "    print(inner)"
   ]
  },
  {
   "cell_type": "markdown",
   "id": "08a0e5ad-75e1-4a63-834f-b369e44e068d",
   "metadata": {},
   "source": [
    "## Advanced comprehensions"
   ]
  },
  {
   "cell_type": "code",
   "execution_count": 60,
   "id": "2f734a26-881a-415f-855f-5a3358db6c05",
   "metadata": {},
   "outputs": [
    {
     "name": "stdout",
     "output_type": "stream",
     "text": [
      "['samwise', 'aragorn', 'legolas', 'boromir']\n"
     ]
    }
   ],
   "source": [
    "# Using conditionals in comprehensions (1)\n",
    "# You've been using list comprehensions to build lists of values, sometimes using operations to create these values. \n",
    "# An interesting mechanism in list comprehensions is that you can also create lists with values that meet only a certain condition. One way of doing\n",
    "# this is by using conditionals on iterator variables. In this exercise, you will do exactly that!\n",
    "# Recall from the video that you can apply a conditional statement to test the iterator variable by adding an if statement in the optional predicate\n",
    "# expression part after the for statement in the comprehension: \n",
    "# [ output expression for iterator variable in iterable if predicate expression ]. \n",
    "# You will use this recipe to write a list comprehension for this exercise. You are given a list of strings fellowship and, using a list \n",
    "# comprehension, you will create a list that only includes the members of fellowship that have 7 characters or more.\n",
    "\n",
    "fellowship = ['frodo', 'samwise', 'merry', 'aragorn', 'legolas', 'boromir', 'gimli']\n",
    "\n",
    "# Use member as the iterator variable in the list comprehension. For the conditional, use len() to evaluate the iterator variable. Note that you \n",
    "# only want strings with 7 characters or more.\n",
    "\n",
    "new_fellowship= [member for member in fellowship if len(member) >= 7]\n",
    "print(new_fellowship)\n"
   ]
  },
  {
   "cell_type": "code",
   "execution_count": 61,
   "id": "7112762a-96b7-4e47-a42b-ef261a05d3a9",
   "metadata": {},
   "outputs": [
    {
     "name": "stdout",
     "output_type": "stream",
     "text": [
      "['', 'samwise', '', 'aragorn', 'legolas', 'boromir', '']\n"
     ]
    }
   ],
   "source": [
    "# Using conditionals in comprehensions (2)\n",
    "# In the previous exercise, you used an if conditional statement in the predicate expression part of a list comprehension to evaluate an iterator \n",
    "# variable. In this exercise, you will use an if-else statement on the output expression of the list.\n",
    "# You will work on the same list, fellowship and, using a list comprehension and an if-else conditional statement in the output expression, create\n",
    "# a list that keeps members of fellowship with 7 or more characters and replaces others with an empty string. Use member as the iterator variable \n",
    "# in the list comprehension.\n",
    "\n",
    "# In the output expression, keep the string as-is if the number of characters is >= 7, else replace it with an empty string - that is, '' or \"\".\n",
    "fellowship = ['frodo', 'samwise', 'merry', 'aragorn', 'legolas', 'boromir', 'gimli']\n",
    "new_fellowship = [member if len(member) >= 7 else '' for member in fellowship]\n",
    "print(new_fellowship)"
   ]
  },
  {
   "cell_type": "code",
   "execution_count": 62,
   "id": "36bd44bd-ca12-4610-a94d-2508bd559a50",
   "metadata": {},
   "outputs": [
    {
     "name": "stdout",
     "output_type": "stream",
     "text": [
      "{'frodo': 5, 'samwise': 7, 'merry': 5, 'aragorn': 7, 'legolas': 7, 'boromir': 7, 'gimli': 5}\n"
     ]
    }
   ],
   "source": [
    "# Dict comprehensions\n",
    "# Comprehensions aren't relegated merely to the world of lists. There are many other objects you can build using comprehensions, such as \n",
    "# dictionaries, pervasive objects in Data Science. You will create a dictionary using the comprehension syntax for this exercise. In this case, the \n",
    "# comprehension is called a dict comprehension.\n",
    "# Recall that the main difference between a list comprehension and a dict comprehension is the use of curly braces {} instead of []. Additionally, \n",
    "# members of the dictionary are created using a colon :, as in <key> : <value>.\n",
    "# You are given a list of strings fellowship and, using a dict comprehension, create a dictionary with the members of the list as the keys and the \n",
    "# length of each string as the corresponding values.\n",
    "fellowship = ['frodo', 'samwise', 'merry', 'aragorn', 'legolas', 'boromir', 'gimli']\n",
    "\n",
    "# Create a dict comprehension where the key is a string in fellowship and the value is the length of the string. Remember to use the syntax <key> : \n",
    "# <value> in the output expression part of the comprehension to create the members of the dictionary. Use member as the iterator variable.\n",
    "\n",
    "new_fellowship = {member: len(member) for member in fellowship}\n",
    "print(new_fellowship)"
   ]
  },
  {
   "cell_type": "markdown",
   "id": "eaef145d-48e8-468a-a4e5-24f270d1bdbe",
   "metadata": {},
   "source": [
    "## Introduction to generator expressions"
   ]
  },
  {
   "cell_type": "code",
   "execution_count": 64,
   "id": "a6c25a7c-670f-444f-a065-9943edaafeb3",
   "metadata": {},
   "outputs": [
    {
     "name": "stdout",
     "output_type": "stream",
     "text": [
      "<generator object <genexpr> at 0x00000176D6C6A2E0>\n",
      "<class 'generator'>\n",
      "\n",
      "\n",
      "0\n",
      "1\n",
      "2\n",
      "3\n",
      "4\n",
      "\n",
      "\n",
      "5\n",
      "6\n",
      "7\n",
      "8\n",
      "9\n",
      "10\n",
      "11\n",
      "12\n",
      "13\n",
      "14\n",
      "15\n",
      "16\n",
      "17\n",
      "18\n",
      "19\n",
      "20\n",
      "21\n",
      "22\n",
      "23\n",
      "24\n",
      "25\n",
      "26\n",
      "27\n",
      "28\n",
      "29\n",
      "30\n"
     ]
    }
   ],
   "source": [
    "# Write your own generator expressions\n",
    "# Recall that generator expressions basically have the same syntax as list comprehensions, except that it uses parentheses () instead of brackets \n",
    "# []; this should make things feel familiar! Furthermore, if you have ever iterated over a dictionary with .items(), or used the range() function, \n",
    "# for example, you have already encountered and used generators before, without knowing it! When you use these functions, Python creates generators \n",
    "# for you behind the scenes.\n",
    "\n",
    "# Now, you will start simple by creating a generator object that produces numeric values.\n",
    "\n",
    "# Create a generator object that will produce values from 0 to 30. Assign the result to result and use num as the iterator variable in the generator\n",
    "# expression.\n",
    "result= (num for num in range(31))\n",
    "print(result)\n",
    "print(type(result))\n",
    "print('\\n')\n",
    "\n",
    "# Print the first 5 values by using next() appropriately in print(). \n",
    "print(next(result))   # since next() works, thus, generator object is also an iterator.\n",
    "print(next(result))\n",
    "print(next(result))\n",
    "print(next(result))\n",
    "print(next(result))\n",
    "print('\\n')\n",
    "\n",
    "# Print the rest of the values by using a for loop to iterate over the generator object.(The first five values have already been exhausted above)\n",
    "for value in result:\n",
    "    print(value)"
   ]
  },
  {
   "cell_type": "code",
   "execution_count": 65,
   "id": "ca405b2d-6948-43b4-95f7-26505f6d32fb",
   "metadata": {},
   "outputs": [
    {
     "name": "stdout",
     "output_type": "stream",
     "text": [
      "6\n",
      "5\n",
      "5\n",
      "6\n",
      "7\n"
     ]
    }
   ],
   "source": [
    "# Changing the output in generator expressions\n",
    "# You are given a list of strings lannister and, using a generator expression, create a generator object that you will iterate over to print its \n",
    "# values.\n",
    "lannister = ['cersei', 'jaime', 'tywin', 'tyrion', 'joffrey']\n",
    "# Write a generator expression that will generate the lengths of each string in lannister. Use person as the iterator variable. Assign the result to\n",
    "# lengths.\n",
    "lengths= (len(person) for person in lannister)\n",
    "\n",
    "# Supply the correct iterable in the for loop for printing the values in the generator object.\n",
    "for value in lengths:\n",
    "    print(value)"
   ]
  },
  {
   "cell_type": "code",
   "execution_count": 79,
   "id": "00135168-bb43-4cc2-9f53-9c992ab1f921",
   "metadata": {},
   "outputs": [
    {
     "name": "stdout",
     "output_type": "stream",
     "text": [
      "<generator object get_lengths at 0x00000176D6DD19E0>\n",
      "6\n",
      "5\n",
      "5\n",
      "6\n",
      "7\n",
      "[6, 5, 5, 6, 7]\n"
     ]
    }
   ],
   "source": [
    "# Build a generator\n",
    "# In previous exercises, you've dealt mainly with writing generator expressions, which uses comprehension syntax. Being able to use comprehension \n",
    "# syntax for generator expressions made your work so much easier!\n",
    "# Now, recall from the video that not only are there generator expressions, there are generator functions as well. Generator functions are functions\n",
    "# that, like generator expressions, yield a series of values, instead of returning a single value. A generator function is defined as you do a \n",
    "# regular function, but whenever it generates a value, it uses the keyword yield instead of return.\n",
    "# In this exercise, you will create a generator function with a similar mechanism as the generator expression you defined in the previous exercise: \n",
    "# lengths = (len(person) for person in lannister)\n",
    "\n",
    "# Complete the function header for the function get_lengths() that has a single parameter, input_list.\n",
    "def get_lengths(input_list):\n",
    "    \"\"\"Generator function that yields the length of the strings in input_list.\"\"\"\n",
    "    \n",
    "    # Yield the length of a string\n",
    "    for person in input_list:\n",
    "        yield (len(person))        # Python uses keyword yield for generator to return a value.\n",
    "        \n",
    "# Print the values generated by get_lengths()\n",
    "result= get_lengths(lannister)\n",
    "print(result)\n",
    "\n",
    "for value in result:     # result can be replace by a call to a function (get_lengths(lannister) in for loop.\n",
    "    print (value)\n",
    "    \n",
    "######## Alternatively, the same output can be obtained using the general list.\n",
    "def get_lengths(input_list):\n",
    "    \"\"\"Generator function that yields the length of the strings in input_list.\"\"\"\n",
    "    a= []\n",
    "    # Yield the length of a string\n",
    "    for person in input_list:\n",
    "        a.append(len(person))        # Python uses keyword yield for generator to return a value.\n",
    "        \n",
    "    return a\n",
    "\n",
    "# Print the values generated by get_lengths()\n",
    "result= get_lengths(lannister)\n",
    "print(result)\n",
    "# for value in get_lengths(lannister):     # Note the call to a function in for loop.\n",
    "#     print (value)"
   ]
  },
  {
   "cell_type": "markdown",
   "id": "e9ae430d-4094-44e1-ad57-2e0b8efa21c6",
   "metadata": {},
   "source": [
    "## Wrapping up"
   ]
  },
  {
   "cell_type": "code",
   "execution_count": 7,
   "id": "87973350-6785-4a39-b763-2f6a2dfeb70a",
   "metadata": {},
   "outputs": [
    {
     "data": {
      "text/plain": [
       "['23:40:17',\n",
       " '23:40:17',\n",
       " '23:40:17',\n",
       " '23:40:17',\n",
       " '23:40:17',\n",
       " '23:40:17',\n",
       " '23:40:18',\n",
       " '23:40:17',\n",
       " '23:40:18',\n",
       " '23:40:18',\n",
       " '23:40:18',\n",
       " '23:40:17',\n",
       " '23:40:18',\n",
       " '23:40:18',\n",
       " '23:40:17',\n",
       " '23:40:18',\n",
       " '23:40:18',\n",
       " '23:40:17',\n",
       " '23:40:18',\n",
       " '23:40:17',\n",
       " '23:40:18',\n",
       " '23:40:18',\n",
       " '23:40:18',\n",
       " '23:40:18',\n",
       " '23:40:17',\n",
       " '23:40:18',\n",
       " '23:40:18',\n",
       " '23:40:17',\n",
       " '23:40:18',\n",
       " '23:40:18',\n",
       " '23:40:18',\n",
       " '23:40:18',\n",
       " '23:40:18',\n",
       " '23:40:18',\n",
       " '23:40:18',\n",
       " '23:40:18',\n",
       " '23:40:18',\n",
       " '23:40:18',\n",
       " '23:40:18',\n",
       " '23:40:18',\n",
       " '23:40:18',\n",
       " '23:40:18',\n",
       " '23:40:18',\n",
       " '23:40:18',\n",
       " '23:40:18',\n",
       " '23:40:18',\n",
       " '23:40:18',\n",
       " '23:40:18',\n",
       " '23:40:18',\n",
       " '23:40:18',\n",
       " '23:40:18',\n",
       " '23:40:18',\n",
       " '23:40:18',\n",
       " '23:40:18',\n",
       " '23:40:18',\n",
       " '23:40:18',\n",
       " '23:40:18',\n",
       " '23:40:18',\n",
       " '23:40:18',\n",
       " '23:40:18',\n",
       " '23:40:19',\n",
       " '23:40:18',\n",
       " '23:40:18',\n",
       " '23:40:18',\n",
       " '23:40:19',\n",
       " '23:40:19',\n",
       " '23:40:19',\n",
       " '23:40:18',\n",
       " '23:40:19',\n",
       " '23:40:19',\n",
       " '23:40:19',\n",
       " '23:40:18',\n",
       " '23:40:19',\n",
       " '23:40:19',\n",
       " '23:40:19',\n",
       " '23:40:18',\n",
       " '23:40:19',\n",
       " '23:40:19',\n",
       " '23:40:19',\n",
       " '23:40:19',\n",
       " '23:40:19',\n",
       " '23:40:19',\n",
       " '23:40:19',\n",
       " '23:40:19',\n",
       " '23:40:19',\n",
       " '23:40:19',\n",
       " '23:40:19',\n",
       " '23:40:19',\n",
       " '23:40:19',\n",
       " '23:40:19',\n",
       " '23:40:19',\n",
       " '23:40:19',\n",
       " '23:40:19',\n",
       " '23:40:19',\n",
       " '23:40:19',\n",
       " '23:40:19',\n",
       " '23:40:19',\n",
       " '23:40:19',\n",
       " '23:40:19',\n",
       " '23:40:19']"
      ]
     },
     "execution_count": 7,
     "metadata": {},
     "output_type": "execute_result"
    }
   ],
   "source": [
    "# List comprehensions for time-stamped data\n",
    "# You will now make use of what you've learned from this chapter to solve a simple data extraction problem. You will also be introduced to a data \n",
    "# structure, the pandas Series, in this exercise. We won't elaborate on it much here, but what you should know is that it is a data structure that \n",
    "# you will be working with a lot of times when analyzing data from pandas DataFrames. You can think of DataFrame columns as single-dimension arrays \n",
    "# called Series.\n",
    "\n",
    "# In this exercise, you will be using a list comprehension to extract the time from time-stamped Twitter data. The pandas package has been imported\n",
    "# as pd and the file 'tweets.csv' has been imported as the df DataFrame for your use.\n",
    "import pandas as pd\n",
    "df= pd.read_csv('tweets.csv')\n",
    "\n",
    "# Extract the column 'created_at' from df and assign the result to tweet_time. Fun fact: the extracted column in tweet_time here is a Series data \n",
    "# structure!\n",
    "tweet_time= df['created_at']\n",
    "tweet_time.head()\n",
    "tweet_time.dtype\n",
    "\n",
    "# Create a list comprehension that extracts the time from each row in tweet_time. Each row is a string that represents a timestamp, and you will \n",
    "# access the 12th to 19th characters in the string to extract the time. Use entry as the iterator variable and assign the result to tweet_clock_time.\n",
    "# Remember that Python uses 0-based indexing!\n",
    "tweet_clock_time= [entry[11:19] for entry in tweet_time]    # since each is a string so this way indexing works.\n",
    "tweet_clock_time"
   ]
  },
  {
   "cell_type": "code",
   "execution_count": 8,
   "id": "1785ca89-885b-4ab5-a770-edba4793f480",
   "metadata": {},
   "outputs": [
    {
     "data": {
      "text/plain": [
       "['23:40:19',\n",
       " '23:40:19',\n",
       " '23:40:19',\n",
       " '23:40:19',\n",
       " '23:40:19',\n",
       " '23:40:19',\n",
       " '23:40:19',\n",
       " '23:40:19',\n",
       " '23:40:19',\n",
       " '23:40:19',\n",
       " '23:40:19',\n",
       " '23:40:19',\n",
       " '23:40:19',\n",
       " '23:40:19',\n",
       " '23:40:19',\n",
       " '23:40:19',\n",
       " '23:40:19',\n",
       " '23:40:19',\n",
       " '23:40:19',\n",
       " '23:40:19',\n",
       " '23:40:19',\n",
       " '23:40:19',\n",
       " '23:40:19',\n",
       " '23:40:19',\n",
       " '23:40:19',\n",
       " '23:40:19',\n",
       " '23:40:19',\n",
       " '23:40:19',\n",
       " '23:40:19',\n",
       " '23:40:19',\n",
       " '23:40:19',\n",
       " '23:40:19',\n",
       " '23:40:19',\n",
       " '23:40:19']"
      ]
     },
     "execution_count": 8,
     "metadata": {},
     "output_type": "execute_result"
    }
   ],
   "source": [
    "# Conditional list comprehensions for time-stamped data\n",
    "# Great, you've successfully extracted the data of interest, the time, from a pandas DataFrame! Let's tweak your work further by adding a \n",
    "# conditional that further specifies which entries to select.\n",
    "# In this exercise, you will be using a list comprehension to extract the time from time-stamped Twitter data. You will add a conditional expression\n",
    "# to the list comprehension so that you only select the times in which entry[17:19] is equal to '19'.\n",
    "\n",
    "# Extract the column 'created_at' from df and assign the result to tweet_time.\n",
    "tweet_time= df['created_at']\n",
    "\n",
    "# Create a list comprehension that extracts the time from each row in tweet_time. Each row is a string that represents a timestamp, and you will \n",
    "# access the 12th to 19th characters in the string to extract the time. Use entry as the iterator variable and assign the result to tweet_clock_time.\n",
    "# Additionally, add a conditional expression that checks whether entry[17:19] is equal to '19'.\n",
    "\n",
    "tweet_clock_time= [entry[11:19] for entry in tweet_time if entry[17:19] == '19']\n",
    "tweet_clock_time"
   ]
  },
  {
   "cell_type": "markdown",
   "id": "73108fe2-f230-4fbf-a31d-3bca0c347ae5",
   "metadata": {},
   "source": [
    "* The End of the first two chapters. The third chapter is a case study done in a new file."
   ]
  }
 ],
 "metadata": {
  "kernelspec": {
   "display_name": "Python 3 (ipykernel)",
   "language": "python",
   "name": "python3"
  },
  "language_info": {
   "codemirror_mode": {
    "name": "ipython",
    "version": 3
   },
   "file_extension": ".py",
   "mimetype": "text/x-python",
   "name": "python",
   "nbconvert_exporter": "python",
   "pygments_lexer": "ipython3",
   "version": "3.9.12"
  }
 },
 "nbformat": 4,
 "nbformat_minor": 5
}
